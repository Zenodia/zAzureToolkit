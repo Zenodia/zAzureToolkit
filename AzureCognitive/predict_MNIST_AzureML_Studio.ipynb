{
 "cells": [
  {
   "cell_type": "code",
   "execution_count": 55,
   "metadata": {
    "collapsed": true
   },
   "outputs": [],
   "source": [
    "### testing machine learning studio CNN api\n",
    "# refer to https://gallery.azure.ai/Experiment/Neural-Network-Convolution-and-pooling-deep-net-2"
   ]
  },
  {
   "cell_type": "code",
   "execution_count": 2,
   "metadata": {},
   "outputs": [
    {
     "data": {
      "text/plain": [
       "(10000, 1, 28, 28)"
      ]
     },
     "execution_count": 2,
     "metadata": {},
     "output_type": "execute_result"
    }
   ],
   "source": [
    "from torchvision.datasets.mnist import MNIST\n",
    "import numpy as np\n",
    "dataset = MNIST(root='./data', download=False, train=False)\n",
    "\n",
    "X_test = np.expand_dims(getattr(dataset, 'test_data').numpy().astype('float32'), 1)/255.0\n",
    "y_test = getattr(dataset, 'test_labels').numpy().astype('int64')\n",
    "\n",
    "indices = np.random.permutation(len(X_test))\n",
    "X_test = X_test[indices]\n",
    "y_test = y_test[indices]\n",
    "\n",
    "X_test.shape"
   ]
  },
  {
   "cell_type": "code",
   "execution_count": 3,
   "metadata": {},
   "outputs": [
    {
     "name": "stdout",
     "output_type": "stream",
     "text": [
      "9931\n",
      "true label 2\n"
     ]
    },
    {
     "name": "stdout",
     "output_type": "stream",
     "text": [
      "dict_items([('Label', '2'), ('f0', '0'), ('f1', '0'), ('f2', '0'), ('f3', '0'), ('f4', '0'), ('f5', '0'), ('f6', '0'), ('f7', '0'), ('f8', '0'), ('f9', '0'), ('f10', '0'), ('f11', '0'), ('f12', '0'), ('f13', '0'), ('f14', '0'), ('f15', '0'), ('f16', '0'), ('f17', '0'), ('f18', '0'), ('f19', '0'), ('f20', '0'), ('f21', '0'), ('f22', '0'), ('f23', '0'), ('f24', '0'), ('f25', '0'), ('f26', '0'), ('f27', '0'), ('f28', '0'), ('f29', '0'), ('f30', '0'), ('f31', '0'), ('f32', '0'), ('f33', '0'), ('f34', '0'), ('f35', '0'), ('f36', '0'), ('f37', '0'), ('f38', '0'), ('f39', '0'), ('f40', '0'), ('f41', '0'), ('f42', '0'), ('f43', '0'), ('f44', '0'), ('f45', '0'), ('f46', '0'), ('f47', '0'), ('f48', '0'), ('f49', '0'), ('f50', '0'), ('f51', '0'), ('f52', '0'), ('f53', '0'), ('f54', '0'), ('f55', '0'), ('f56', '0'), ('f57', '0'), ('f58', '0'), ('f59', '0'), ('f60', '0'), ('f61', '0'), ('f62', '0'), ('f63', '0'), ('f64', '0'), ('f65', '0'), ('f66', '0'), ('f67', '0'), ('f68', '0'), ('f69', '0'), ('f70', '0'), ('f71', '0'), ('f72', '0'), ('f73', '0'), ('f74', '0'), ('f75', '0'), ('f76', '0'), ('f77', '0'), ('f78', '0'), ('f79', '0'), ('f80', '0'), ('f81', '0'), ('f82', '0'), ('f83', '0'), ('f84', '0'), ('f85', '0'), ('f86', '0'), ('f87', '0'), ('f88', '0'), ('f89', '0'), ('f90', '0'), ('f91', '0'), ('f92', '0'), ('f93', '0'), ('f94', '0'), ('f95', '0'), ('f96', '0'), ('f97', '0'), ('f98', '0'), ('f99', '0'), ('f100', '0'), ('f101', '0'), ('f102', '0'), ('f103', '0'), ('f104', '0'), ('f105', '0'), ('f106', '0'), ('f107', '0'), ('f108', '0'), ('f109', '0'), ('f110', '0'), ('f111', '0'), ('f112', '0'), ('f113', '0'), ('f114', '0'), ('f115', '0'), ('f116', '0'), ('f117', '0'), ('f118', '0'), ('f119', '0'), ('f120', '0'), ('f121', '0'), ('f122', '0'), ('f123', '0'), ('f124', '0'), ('f125', '0'), ('f126', '0'), ('f127', '0'), ('f128', '0'), ('f129', '0'), ('f130', '0'), ('f131', '0'), ('f132', '0'), ('f133', '0'), ('f134', '0'), ('f135', '0'), ('f136', '0'), ('f137', '0'), ('f138', '0'), ('f139', '0'), ('f140', '0'), ('f141', '0'), ('f142', '0'), ('f143', '0'), ('f144', '0'), ('f145', '0'), ('f146', '0'), ('f147', '0'), ('f148', '0'), ('f149', '0'), ('f150', '0'), ('f151', '0'), ('f152', '0'), ('f153', '0'), ('f154', '0'), ('f155', '0'), ('f156', '0'), ('f157', '0'), ('f158', '0'), ('f159', '0'), ('f160', '0'), ('f161', '0'), ('f162', '0'), ('f163', '0'), ('f164', '0'), ('f165', '0'), ('f166', '0'), ('f167', '0'), ('f168', '0'), ('f169', '0'), ('f170', '0'), ('f171', '0'), ('f172', '0'), ('f173', '0'), ('f174', '0'), ('f175', '0'), ('f176', '0'), ('f177', '0'), ('f178', '0'), ('f179', '0'), ('f180', '0'), ('f181', '0'), ('f182', '0'), ('f183', '0'), ('f184', '0'), ('f185', '0'), ('f186', '0'), ('f187', '0'), ('f188', '0'), ('f189', '0'), ('f190', '0'), ('f191', '0'), ('f192', '0'), ('f193', '0'), ('f194', '0'), ('f195', '0'), ('f196', '0'), ('f197', '0'), ('f198', '0'), ('f199', '0'), ('f200', '0'), ('f201', '0'), ('f202', '0'), ('f203', '0'), ('f204', '0'), ('f205', '0'), ('f206', '0'), ('f207', '0'), ('f208', '0'), ('f209', '0'), ('f210', '0'), ('f211', '0'), ('f212', '0'), ('f213', '0'), ('f214', '0'), ('f215', '0'), ('f216', '0'), ('f217', '0'), ('f218', '0'), ('f219', '0'), ('f220', '0'), ('f221', '0'), ('f222', '0'), ('f223', '0'), ('f224', '0'), ('f225', '0'), ('f226', '0'), ('f227', '0'), ('f228', '0'), ('f229', '0'), ('f230', '0'), ('f231', '0'), ('f232', '0'), ('f233', '0'), ('f234', '0'), ('f235', '0'), ('f236', '0'), ('f237', '0'), ('f238', '0'), ('f239', '0'), ('f240', '0'), ('f241', '0'), ('f242', '0'), ('f243', '0'), ('f244', '0'), ('f245', '0'), ('f246', '0'), ('f247', '0'), ('f248', '0'), ('f249', '0'), ('f250', '0'), ('f251', '0'), ('f252', '0'), ('f253', '0'), ('f254', '0'), ('f255', '0'), ('f256', '0'), ('f257', '0'), ('f258', '0'), ('f259', '0'), ('f260', '0'), ('f261', '0'), ('f262', '0'), ('f263', '0'), ('f264', '0'), ('f265', '0'), ('f266', '0'), ('f267', '0'), ('f268', '0'), ('f269', '0'), ('f270', '0'), ('f271', '0'), ('f272', '0'), ('f273', '0'), ('f274', '0'), ('f275', '0'), ('f276', '0'), ('f277', '0'), ('f278', '0'), ('f279', '0'), ('f280', '0'), ('f281', '0'), ('f282', '0'), ('f283', '0'), ('f284', '0'), ('f285', '0'), ('f286', '0'), ('f287', '0'), ('f288', '0'), ('f289', '0'), ('f290', '0'), ('f291', '0'), ('f292', '0'), ('f293', '0'), ('f294', '0'), ('f295', '0'), ('f296', '0'), ('f297', '0'), ('f298', '0'), ('f299', '0'), ('f300', '0'), ('f301', '0'), ('f302', '0'), ('f303', '0'), ('f304', '0'), ('f305', '0'), ('f306', '0'), ('f307', '0'), ('f308', '0'), ('f309', '0'), ('f310', '0'), ('f311', '0'), ('f312', '0'), ('f313', '0'), ('f314', '0'), ('f315', '0'), ('f316', '0'), ('f317', '0'), ('f318', '0'), ('f319', '0'), ('f320', '0'), ('f321', '0'), ('f322', '0'), ('f323', '0'), ('f324', '0'), ('f325', '0'), ('f326', '0'), ('f327', '0'), ('f328', '0'), ('f329', '0'), ('f330', '0'), ('f331', '0'), ('f332', '0'), ('f333', '0'), ('f334', '0'), ('f335', '0'), ('f336', '0'), ('f337', '0'), ('f338', '0'), ('f339', '0'), ('f340', '0'), ('f341', '0'), ('f342', '0'), ('f343', '0'), ('f344', '0'), ('f345', '0'), ('f346', '0'), ('f347', '0'), ('f348', '0'), ('f349', '0'), ('f350', '0'), ('f351', '0'), ('f352', '0'), ('f353', '0'), ('f354', '0'), ('f355', '0'), ('f356', '0'), ('f357', '0'), ('f358', '0'), ('f359', '0'), ('f360', '0'), ('f361', '0'), ('f362', '0'), ('f363', '0'), ('f364', '0'), ('f365', '0'), ('f366', '0'), ('f367', '0'), ('f368', '0'), ('f369', '0'), ('f370', '0'), ('f371', '0'), ('f372', '0'), ('f373', '0'), ('f374', '0'), ('f375', '0'), ('f376', '0'), ('f377', '0'), ('f378', '0'), ('f379', '0'), ('f380', '0'), ('f381', '0'), ('f382', '0'), ('f383', '0'), ('f384', '0'), ('f385', '0'), ('f386', '0'), ('f387', '0'), ('f388', '0'), ('f389', '0'), ('f390', '0'), ('f391', '0'), ('f392', '0'), ('f393', '0'), ('f394', '0'), ('f395', '0'), ('f396', '0'), ('f397', '0'), ('f398', '0'), ('f399', '0'), ('f400', '0'), ('f401', '0'), ('f402', '0'), ('f403', '0'), ('f404', '0'), ('f405', '0'), ('f406', '0'), ('f407', '0'), ('f408', '0'), ('f409', '0'), ('f410', '0'), ('f411', '0'), ('f412', '0'), ('f413', '0'), ('f414', '0'), ('f415', '0'), ('f416', '0'), ('f417', '0'), ('f418', '0'), ('f419', '0'), ('f420', '0'), ('f421', '0'), ('f422', '0'), ('f423', '0'), ('f424', '0'), ('f425', '0'), ('f426', '0'), ('f427', '0'), ('f428', '0'), ('f429', '0'), ('f430', '0'), ('f431', '0'), ('f432', '0'), ('f433', '0'), ('f434', '0'), ('f435', '0'), ('f436', '0'), ('f437', '0'), ('f438', '0'), ('f439', '0'), ('f440', '0'), ('f441', '0'), ('f442', '0'), ('f443', '0'), ('f444', '0'), ('f445', '0'), ('f446', '0'), ('f447', '0'), ('f448', '0'), ('f449', '0'), ('f450', '0'), ('f451', '0'), ('f452', '0'), ('f453', '0'), ('f454', '0'), ('f455', '0'), ('f456', '0'), ('f457', '0'), ('f458', '0'), ('f459', '0'), ('f460', '0'), ('f461', '0'), ('f462', '0'), ('f463', '0'), ('f464', '0'), ('f465', '0'), ('f466', '0'), ('f467', '0'), ('f468', '0'), ('f469', '0'), ('f470', '0'), ('f471', '0'), ('f472', '0'), ('f473', '0'), ('f474', '0'), ('f475', '0'), ('f476', '0'), ('f477', '0'), ('f478', '0'), ('f479', '0'), ('f480', '0'), ('f481', '0'), ('f482', '0'), ('f483', '0'), ('f484', '0'), ('f485', '0'), ('f486', '0'), ('f487', '1'), ('f488', '0'), ('f489', '0'), ('f490', '0'), ('f491', '0'), ('f492', '0'), ('f493', '0'), ('f494', '0'), ('f495', '0'), ('f496', '0'), ('f497', '0'), ('f498', '0'), ('f499', '0'), ('f500', '0'), ('f501', '0'), ('f502', '0'), ('f503', '0'), ('f504', '0'), ('f505', '0'), ('f506', '0'), ('f507', '0'), ('f508', '0'), ('f509', '0'), ('f510', '0'), ('f511', '0'), ('f512', '0'), ('f513', '0'), ('f514', '0'), ('f515', '0'), ('f516', '0'), ('f517', '0'), ('f518', '0'), ('f519', '0'), ('f520', '0'), ('f521', '0'), ('f522', '0'), ('f523', '0'), ('f524', '0'), ('f525', '0'), ('f526', '0'), ('f527', '0'), ('f528', '0'), ('f529', '0'), ('f530', '0'), ('f531', '0'), ('f532', '0'), ('f533', '0'), ('f534', '0'), ('f535', '0'), ('f536', '0'), ('f537', '0'), ('f538', '0'), ('f539', '0'), ('f540', '0'), ('f541', '0'), ('f542', '0'), ('f543', '0'), ('f544', '0'), ('f545', '0'), ('f546', '0'), ('f547', '0'), ('f548', '0'), ('f549', '0'), ('f550', '0'), ('f551', '0'), ('f552', '0'), ('f553', '0'), ('f554', '0'), ('f555', '0'), ('f556', '0'), ('f557', '0'), ('f558', '0'), ('f559', '0'), ('f560', '0'), ('f561', '0'), ('f562', '0'), ('f563', '0'), ('f564', '0'), ('f565', '0'), ('f566', '0'), ('f567', '0'), ('f568', '0'), ('f569', '0'), ('f570', '0'), ('f571', '0'), ('f572', '0'), ('f573', '0'), ('f574', '0'), ('f575', '0'), ('f576', '0'), ('f577', '0'), ('f578', '0'), ('f579', '0'), ('f580', '0'), ('f581', '0'), ('f582', '0'), ('f583', '0'), ('f584', '0'), ('f585', '0'), ('f586', '0'), ('f587', '0'), ('f588', '0'), ('f589', '0'), ('f590', '0'), ('f591', '0'), ('f592', '0'), ('f593', '0'), ('f594', '0'), ('f595', '0'), ('f596', '0'), ('f597', '0'), ('f598', '0'), ('f599', '0'), ('f600', '0'), ('f601', '0'), ('f602', '0'), ('f603', '0'), ('f604', '0'), ('f605', '0'), ('f606', '0'), ('f607', '0'), ('f608', '0'), ('f609', '0'), ('f610', '0'), ('f611', '0'), ('f612', '0'), ('f613', '0'), ('f614', '0'), ('f615', '0'), ('f616', '0'), ('f617', '0'), ('f618', '0'), ('f619', '0'), ('f620', '0'), ('f621', '0'), ('f622', '0'), ('f623', '0'), ('f624', '0'), ('f625', '0'), ('f626', '0'), ('f627', '0'), ('f628', '0'), ('f629', '0'), ('f630', '0'), ('f631', '0'), ('f632', '0'), ('f633', '0'), ('f634', '0'), ('f635', '0'), ('f636', '0'), ('f637', '0'), ('f638', '0'), ('f639', '0'), ('f640', '0'), ('f641', '0'), ('f642', '0'), ('f643', '0'), ('f644', '0'), ('f645', '0'), ('f646', '0'), ('f647', '0'), ('f648', '0'), ('f649', '0'), ('f650', '0'), ('f651', '0'), ('f652', '0'), ('f653', '0'), ('f654', '0'), ('f655', '0'), ('f656', '0'), ('f657', '0'), ('f658', '0'), ('f659', '0'), ('f660', '0'), ('f661', '0'), ('f662', '0'), ('f663', '0'), ('f664', '0'), ('f665', '0'), ('f666', '0'), ('f667', '0'), ('f668', '0'), ('f669', '0'), ('f670', '0'), ('f671', '0'), ('f672', '0'), ('f673', '0'), ('f674', '0'), ('f675', '0'), ('f676', '0'), ('f677', '0'), ('f678', '0'), ('f679', '0'), ('f680', '0'), ('f681', '0'), ('f682', '0'), ('f683', '0'), ('f684', '0'), ('f685', '0'), ('f686', '0'), ('f687', '0'), ('f688', '0'), ('f689', '0'), ('f690', '0'), ('f691', '0'), ('f692', '0'), ('f693', '0'), ('f694', '0'), ('f695', '0'), ('f696', '0'), ('f697', '0'), ('f698', '0'), ('f699', '0'), ('f700', '0'), ('f701', '0'), ('f702', '0'), ('f703', '0'), ('f704', '0'), ('f705', '0'), ('f706', '0'), ('f707', '0'), ('f708', '0'), ('f709', '0'), ('f710', '0'), ('f711', '0'), ('f712', '0'), ('f713', '0'), ('f714', '0'), ('f715', '0'), ('f716', '0'), ('f717', '0'), ('f718', '0'), ('f719', '0'), ('f720', '0'), ('f721', '0'), ('f722', '0'), ('f723', '0'), ('f724', '0'), ('f725', '0'), ('f726', '0'), ('f727', '0'), ('f728', '0'), ('f729', '0'), ('f730', '0'), ('f731', '0'), ('f732', '0'), ('f733', '0'), ('f734', '0'), ('f735', '0'), ('f736', '0'), ('f737', '0'), ('f738', '0'), ('f739', '0'), ('f740', '0'), ('f741', '0'), ('f742', '0'), ('f743', '0'), ('f744', '0'), ('f745', '0'), ('f746', '0'), ('f747', '0'), ('f748', '0'), ('f749', '0'), ('f750', '0'), ('f751', '0'), ('f752', '0'), ('f753', '0'), ('f754', '0'), ('f755', '0'), ('f756', '0'), ('f757', '0'), ('f758', '0'), ('f759', '0'), ('f760', '0'), ('f761', '0'), ('f762', '0'), ('f763', '0'), ('f764', '0'), ('f765', '0'), ('f766', '0'), ('f767', '0'), ('f768', '0'), ('f769', '0'), ('f770', '0'), ('f771', '0'), ('f772', '0'), ('f773', '0'), ('f774', '0'), ('f775', '0'), ('f776', '0'), ('f777', '0'), ('f778', '0'), ('f779', '0'), ('f780', '0'), ('f781', '0'), ('f782', '0'), ('f783', '0')])\n"
     ]
    }
   ],
   "source": [
    "import random\n",
    "import urllib.request\n",
    "import json\n",
    "\n",
    "### randomly choose a number in MNIST test dataset , which the model hasnt trained on\n",
    "rn=random.randint(0, len(y_test))\n",
    "print(rn)\n",
    "corr_label=y_test[rn]\n",
    "print(\"true label\", corr_label)\n",
    "input1={}\n",
    "input1['Label']=str(corr_label)\n",
    "for x, y  in zip (range(784),X_test[rn].reshape(784)):\n",
    "    input1['f'+str(x)]=str(int(y))\n",
    "\n",
    "\n",
    "print(input1.items())"
   ]
  },
  {
   "cell_type": "code",
   "execution_count": 15,
   "metadata": {},
   "outputs": [
    {
     "data": {
      "image/png": "[encoded data removed]",
      "text/plain": [
       "<matplotlib.figure.Figure at 0x1fce2d86518>"
      ]
     },
     "metadata": {},
     "output_type": "display_data"
    }
   ],
   "source": [
    "def show(image, txt=\"plot\"):\n",
    "    \"\"\"\n",
    "    Render a given numpy.uint8 2D array of pixel data.\n",
    "    \"\"\"\n",
    "    from matplotlib import pyplot\n",
    "    import matplotlib as mpl\n",
    "    fig = pyplot.figure()\n",
    "    ax = fig.add_subplot(1,1,1)\n",
    "    imgplot = ax.imshow(image, cmap=mpl.cm.Greys)\n",
    "    imgplot.set_interpolation('nearest')\n",
    "    ax.xaxis.set_ticks_position('top')\n",
    "    ax.yaxis.set_ticks_position('left')\n",
    "    \n",
    "    pyplot.suptitle(txt)\n",
    "    pyplot.show()\n",
    "show(X_test[rn].reshape(28,28))"
   ]
  },
  {
   "cell_type": "code",
   "execution_count": 6,
   "metadata": {},
   "outputs": [
    {
     "name": "stdout",
     "output_type": "stream",
     "text": [
      "<class 'dict'>\n",
      "<class 'dict'>\n",
      "<class 'dict'>\n"
     ]
    }
   ],
   "source": [
    "d = {\n",
    "        \"Inputs\": {\"input1\":[input1]},\n",
    "    \"GlobalParameters\":  {\n",
    "    }\n",
    "}\n",
    "#data=json.dumps(dat)\n",
    "print(type(d))\n",
    "print(type(d[\"Inputs\"]))\n",
    "print(type(d[\"Inputs\"][\"input1\"][0]))"
   ]
  },
  {
   "cell_type": "code",
   "execution_count": 16,
   "metadata": {},
   "outputs": [
    {
     "data": {
      "image/png": "[encoded data removed]",
      "text/plain": [
       "<matplotlib.figure.Figure at 0x1fce2e3cef0>"
      ]
     },
     "metadata": {},
     "output_type": "display_data"
    }
   ],
   "source": [
    "\n",
    "body = str.encode(json.dumps(d))\n",
    "\n",
    "url = 'https://ussouthcentral.services.azureml.net/workspaces/92501e700e204434b9d7992c291480f6/services/3737183354544a88be84febf150847a8/execute?api-version=2.0&format=swagger'\n",
    "api_key = 'replace_with_your_api_key' # Replace this with the API key for the web service\n",
    "headers = {'Content-Type':'application/json', 'Authorization':('Bearer '+ api_key)}\n",
    "\n",
    "req = urllib.request.Request(url, body, headers)\n",
    "\n",
    "try:\n",
    "    response = urllib.request.urlopen(req)\n",
    "\n",
    "    result = response.read()\n",
    "    d_result=json.loads(result)\n",
    "    t=d_result[\"Results\"][\"output1\"][0][\"Label\"]\n",
    "    #print(result)\n",
    "    #print(\"predicted result :{}\".format(t))\n",
    "    show(X_test[rn].reshape(28,28),\"predicted result :{}\".format(t))\n",
    "    \n",
    "\n",
    "except urllib.error.HTTPError as error:\n",
    "    print(\"The request failed with status code: \" + str(error.code))\n",
    "\n",
    "    # Print the headers - they include the requert ID and the timestamp, which are useful for debugging the failure\n",
    "    print(error.info())\n",
    "    print(json.loads(error.read().decode(\"utf8\", 'ignore')))"
   ]
  },
  {
   "cell_type": "code",
   "execution_count": null,
   "metadata": {
    "collapsed": true
   },
   "outputs": [],
   "source": []
  },
  {
   "cell_type": "code",
   "execution_count": null,
   "metadata": {
    "collapsed": true
   },
   "outputs": [],
   "source": []
  },
  {
   "cell_type": "code",
   "execution_count": null,
   "metadata": {
    "collapsed": true
   },
   "outputs": [],
   "source": []
  },
  {
   "cell_type": "code",
   "execution_count": null,
   "metadata": {
    "collapsed": true
   },
   "outputs": [],
   "source": []
  }
 ],
 "metadata": {
  "kernelspec": {
   "display_name": "Python 3",
   "language": "python",
   "name": "python3"
  },
  "language_info": {
   "codemirror_mode": {
    "name": "ipython",
    "version": 3
   },
   "file_extension": ".py",
   "mimetype": "text/x-python",
   "name": "python",
   "nbconvert_exporter": "python",
   "pygments_lexer": "ipython3",
   "version": "3.6.3"
  }
 },
 "nbformat": 4,
 "nbformat_minor": 2
}
