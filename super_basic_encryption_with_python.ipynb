{
 "cells": [
  {
   "cell_type": "code",
   "execution_count": 11,
   "metadata": {},
   "outputs": [
    {
     "data": {
      "text/html": [
       "<table cellspacing='1'>\n",
       "<td>\n",
       "    <td> <img src=\"./pyseal_concept_and_usage.JPG\" alt=\"image\" style=\"width: 1500px;\"/> </td>\n",
       "\n",
       "</table>\n"
      ],
      "text/plain": [
       "<IPython.core.display.HTML object>"
      ]
     },
     "metadata": {},
     "output_type": "display_data"
    }
   ],
   "source": [
    "%%html\n",
    "<table cellspacing='1'>\n",
    "<td>\n",
    "    <td> <img src=\"./pyseal_concept_and_usage.JPG\" alt=\"image\" style=\"width: 1500px;\"/> </td>\n",
    "\n",
    "</table>"
   ]
  },
  {
   "cell_type": "markdown",
   "metadata": {},
   "source": [
    "# query without password as encryption key"
   ]
  },
  {
   "cell_type": "code",
   "execution_count": 3,
   "metadata": {},
   "outputs": [],
   "source": [
    "from base64 import urlsafe_b64encode, urlsafe_b64decode\n",
    "\n",
    "def encode(data):\n",
    "    return urlsafe_b64encode(bytes(data, 'utf-8'))\n",
    "\n",
    "def decode(enc):\n",
    "    return urlsafe_b64decode(enc).decode()\n"
   ]
  },
  {
   "cell_type": "code",
   "execution_count": 14,
   "metadata": {},
   "outputs": [
    {
     "name": "stdout",
     "output_type": "stream",
     "text": [
      "encrypted string without password : \n",
      " b'U0VMRUNUIHBpZCxhZ2UsZ2VuZGVyIGZyb20gTVlEQg==' \n",
      "\n",
      "decoded string without password ;\n",
      " SELECT pid,age,gender from MYDB\n"
     ]
    }
   ],
   "source": [
    "myencrypted_str= encode('SELECT pid,age,gender from MYDB')\n",
    "print(\"encrypted string without password : \\n\",myencrypted_str ,\"\\n\")\n",
    "print(\"decoded string without password ;\\n\",decode(myencrypted_str)) "
   ]
  },
  {
   "cell_type": "markdown",
   "metadata": {},
   "source": [
    "# encrypt your query with password as keys "
   ]
  },
  {
   "cell_type": "code",
   "execution_count": 5,
   "metadata": {},
   "outputs": [],
   "source": [
    "import base64\n",
    "from Crypto.Cipher import AES\n",
    "from Crypto.Hash import SHA256\n",
    "from Crypto import Random\n",
    "\n",
    "def encrypt(key, source, encode=True):\n",
    "    key = SHA256.new(key).digest()  # use SHA-256 over our key to get a proper-sized AES key\n",
    "    IV = Random.new().read(AES.block_size)  # generate IV\n",
    "    encryptor = AES.new(key, AES.MODE_CBC, IV)\n",
    "    padding = AES.block_size - len(source) % AES.block_size  # calculate needed padding\n",
    "    source += bytes([padding]) * padding  # Python 2.x: source += chr(padding) * padding\n",
    "    data = IV + encryptor.encrypt(source)  # store the IV at the beginning and encrypt\n",
    "    return base64.b64encode(data).decode(\"latin-1\") if encode else data\n",
    "\n",
    "def decrypt(key, source, decode=True):\n",
    "    if decode:\n",
    "        source = base64.b64decode(source.encode(\"latin-1\"))\n",
    "    key = SHA256.new(key).digest()  # use SHA-256 over our key to get a proper-sized AES key\n",
    "    IV = source[:AES.block_size]  # extract the IV from the beginning\n",
    "    decryptor = AES.new(key, AES.MODE_CBC, IV)\n",
    "    data = decryptor.decrypt(source[AES.block_size:])  # decrypt\n",
    "    padding = data[-1]  # pick the padding value from the end; Python 2.x: ord(data[-1])\n",
    "    if data[-padding:] != bytes([padding]) * padding:  # Python 2.x: chr(padding) * padding\n",
    "        raise ValueError(\"Invalid padding...\")\n",
    "    return data[:-padding]  # remove the padding"
   ]
  },
  {
   "cell_type": "markdown",
   "metadata": {},
   "source": [
    "# encryption twice to ensure no-one can temper with your query"
   ]
  },
  {
   "cell_type": "code",
   "execution_count": 18,
   "metadata": {},
   "outputs": [
    {
     "name": "stdout",
     "output_type": "stream",
     "text": [
      "key:  b'my_secret_passw0rd1' \n",
      "\n",
      "original query string with password used in encryption : b'SELECT id ,age, gender ,medicine from myDB' \n",
      "\n",
      "\n",
      "encrypted string:  w5doiLOc9PL985JUM2kw3tXPPF0T4EsDYGIHqDjCklHTNw9q2qqEcPMDheDO7574TLtG/VyGkyDcffVNianoIQ==\n",
      "\n",
      "\n",
      "Second round to double encryption original message....\n",
      "\n",
      "\n",
      "encrypted string:  lNZLGb2SEMRGpI1F9ZSvVsDMsPO6OF/QAk3857XAoUBDUUgbAzuG98c4O9PhAIhsn8/KVVLJPLaHDQ6cN5oNaw==\n",
      "\n"
     ]
    }
   ],
   "source": [
    "my_password = b\"my_secret_passw0rd1\"\n",
    "my_data = b\"SELECT id ,age, gender ,medicine from myDB\"\n",
    "\n",
    "print(\"key:  {} \\n\".format(my_password))\n",
    "print(\"original query string with password used in encryption : {} \\n\".format(my_data))\n",
    "encrypted = encrypt(my_password, my_data)\n",
    "print(\"\\nencrypted string:  {}\\n\".format(encrypted))\n",
    "decrypted = decrypt(my_password, encrypted)\n",
    "\n",
    "#print(\"\\ndata match: {}\\n\".format(my_data == decrypted))\n",
    "print(\"\\nSecond round to double encryption original message....\\n\")\n",
    "encrypted = encrypt(my_password, my_data)\n",
    "print(\"\\nencrypted string:  {}\\n\".format(encrypted))\n",
    "decrypted = decrypt(my_password, encrypted)\n",
    "\n",
    "#print(\"\\ndata match: {}\\n\".format(my_data == decrypted))"
   ]
  }
 ],
 "metadata": {
  "kernelspec": {
   "display_name": "Python 3",
   "language": "python",
   "name": "python3"
  },
  "language_info": {
   "codemirror_mode": {
    "name": "ipython",
    "version": 3
   },
   "file_extension": ".py",
   "mimetype": "text/x-python",
   "name": "python",
   "nbconvert_exporter": "python",
   "pygments_lexer": "ipython3",
   "version": "3.6.8"
  }
 },
 "nbformat": 4,
 "nbformat_minor": 2
}
