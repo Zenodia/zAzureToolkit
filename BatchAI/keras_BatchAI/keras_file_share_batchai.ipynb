{
 "cells": [
  {
   "cell_type": "code",
   "execution_count": 1,
   "metadata": {},
   "outputs": [
    {
     "name": "stderr",
     "output_type": "stream",
     "text": [
      "Keyring cache token has failed: (1783, 'CredWrite', 'The stub received bad data')\n"
     ]
    }
   ],
   "source": [
    "from __future__ import print_function\n",
    "\n",
    "from datetime import datetime\n",
    "import sys\n",
    "\n",
    "from azure.storage.file import FileService\n",
    "import azure.mgmt.batchai.models as models\n",
    "\n",
    "# utilities.py contains helper functions used by different notebooks\n",
    "#sys.path.append('../../')\n",
    "import utilities\n",
    "\n",
    "cfg = utilities.Configuration('configuration.json')\n",
    "client = utilities.create_batchai_client(cfg)\n",
    "## the below message : Keyring cache token has failed: (1783, 'CredWrite', 'The stub received bad data') is not a problem\n",
    "## source https://stackoverflow.com/questions/50123247/azure-python-sdk-authentication-error"
   ]
  },
  {
   "cell_type": "code",
   "execution_count": null,
   "metadata": {},
   "outputs": [],
   "source": []
  },
  {
   "cell_type": "code",
   "execution_count": 2,
   "metadata": {},
   "outputs": [
    {
     "name": "stderr",
     "output_type": "stream",
     "text": [
      "Keyring cache token has failed: (1783, 'CredWrite', 'The stub received bad data')\n"
     ]
    }
   ],
   "source": [
    "utilities.create_resource_group(cfg)\n",
    "_ = client.workspaces.create(cfg.resource_group, cfg.workspace, cfg.location).result()"
   ]
  },
  {
   "cell_type": "code",
   "execution_count": 3,
   "metadata": {},
   "outputs": [
    {
     "name": "stderr",
     "output_type": "stream",
     "text": [
      "location is not a known attribute of class <class 'azure.mgmt.batchai.models.cluster_create_parameters_py3.ClusterCreateParameters'> and will be ignored\n"
     ]
    }
   ],
   "source": [
    "\n",
    "nodes_count = 1\n",
    "cluster_name = 'nc6'\n",
    "dsvm=False\n",
    "if dsvm :\n",
    "    parameters = models.ClusterCreateParameters(\n",
    "        location=cfg.location,\n",
    "        vm_size='STANDARD_NC6',\n",
    "        scale_settings=models.ScaleSettings(\n",
    "            manual=models.ManualScaleSettings(target_node_count=nodes_count)\n",
    "        ), \n",
    "        ####### comment out this section when want to use docker image instead of dsvm###########\n",
    "        virtual_machine_configuration=models.VirtualMachineConfiguration(\n",
    "            image_reference=models.ImageReference(\n",
    "                publisher=\"microsoft-ads\",\n",
    "                offer=\"linux-data-science-vm-ubuntu\",\n",
    "                sku=\"linuxdsvmubuntu\",\n",
    "                version=\"latest\")),\n",
    "\n",
    "        ###################comment out end ####################################\n",
    "        user_account_settings=models.UserAccountSettings(\n",
    "            admin_user_name=cfg.admin,\n",
    "            admin_user_password=cfg.admin_password or None,\n",
    "            admin_user_ssh_public_key=cfg.admin_ssh_key or None,\n",
    "        )\n",
    "    )\n",
    "else:\n",
    "    parameters = models.ClusterCreateParameters(\n",
    "    location=cfg.location,\n",
    "    vm_size='STANDARD_NC6',\n",
    "    scale_settings=models.ScaleSettings(\n",
    "        manual=models.ManualScaleSettings(target_node_count=nodes_count)\n",
    "    ),\n",
    "    user_account_settings=models.UserAccountSettings(\n",
    "        admin_user_name=cfg.admin,\n",
    "        admin_user_password=cfg.admin_password or None,\n",
    "        admin_user_ssh_public_key=cfg.admin_ssh_key or None,\n",
    "    )\n",
    "    )"
   ]
  },
  {
   "cell_type": "code",
   "execution_count": 4,
   "metadata": {},
   "outputs": [],
   "source": [
    "_ = client.clusters.create(cfg.resource_group, cfg.workspace, cluster_name, parameters).result()"
   ]
  },
  {
   "cell_type": "code",
   "execution_count": 5,
   "metadata": {},
   "outputs": [
    {
     "name": "stdout",
     "output_type": "stream",
     "text": [
      "Cluster state: resizing Target: 1; Allocated: 0; Idle: 0; Unusable: 0; Running: 0; Preparing: 0; Leaving: 0\n"
     ]
    }
   ],
   "source": [
    "cluster = client.clusters.get(cfg.resource_group, cfg.workspace, cluster_name)\n",
    "utilities.print_cluster_status(cluster)"
   ]
  },
  {
   "cell_type": "code",
   "execution_count": null,
   "metadata": {},
   "outputs": [],
   "source": []
  },
  {
   "cell_type": "code",
   "execution_count": 6,
   "metadata": {},
   "outputs": [],
   "source": [
    "backend = 'tensorflow'"
   ]
  },
  {
   "cell_type": "code",
   "execution_count": 7,
   "metadata": {},
   "outputs": [
    {
     "name": "stderr",
     "output_type": "stream",
     "text": [
      "location is not a known attribute of class <class 'azure.mgmt.batchai.models.job_create_parameters_py3.JobCreateParameters'> and will be ignored\n"
     ]
    }
   ],
   "source": [
    "if backend == 'tensorflow':\n",
    "    parameters = models.JobCreateParameters(\n",
    "         location=cfg.location,\n",
    "         cluster=models.ResourceId(id=cluster.id),\n",
    "         node_count=1,\n",
    "         job_preparation=models.JobPreparation(command_line='python -m pip install keras pillow matplotlib numpy'),\n",
    "        ####### only comment out the below when you use dsvm instead of docker image in parameters block above\n",
    "         container_settings=models.ContainerSettings(\n",
    "             image_source_registry=models.ImageSourceRegistry(image='tensorflow/tensorflow:1.8.0-gpu-py3')),\n",
    "        ######### commend end #########################3\n",
    "        \n",
    "         mount_volumes=models.MountVolumes(\n",
    "            azure_file_shares=[\n",
    "                models.AzureFileShareReference(\n",
    "                    account_name=cfg.storage_account_name,\n",
    "                    credentials=models.AzureStorageCredentialsInfo(\n",
    "                        account_key=cfg.storage_account_key),\n",
    "                    azure_file_url='https://{0}.file.core.windows.net/{1}'.format(\n",
    "                        cfg.storage_account_name, 'bloodcell'), ## bloodcell is the name of the fileshare\n",
    "                    relative_mount_path='afs')\n",
    "            ]\n",
    "         ),\n",
    "         std_out_err_path_prefix='$AZ_BATCHAI_JOB_MOUNT_ROOT/afs', ## here afs equal to bloodshare level\n",
    "         tensor_flow_settings=models.TensorFlowSettings(\n",
    "             python_script_file_path='$AZ_BATCHAI_JOB_MOUNT_ROOT/afs/pretrained_resnet.py',\n",
    "             master_command_line_args='--train $AZ_BATCHAI_JOB_MOUNT_ROOT/afs/images/TRAIN --val $AZ_BATCHAI_JOB_MOUNT_ROOT/afs/images/TEST --epoch 1 --output $AZ_BATCHAI_JOB_MOUNT_ROOT/afs/ --load_model True')) "
   ]
  },
  {
   "cell_type": "code",
   "execution_count": 8,
   "metadata": {},
   "outputs": [
    {
     "name": "stdout",
     "output_type": "stream",
     "text": [
      "Created Job keras_tensorflow_07_23_2018_201215 in Experiment keras_experiment\n"
     ]
    }
   ],
   "source": [
    "experiment_name = 'keras_experiment'\n",
    "experiment = client.experiments.create(cfg.resource_group, cfg.workspace, experiment_name).result()\n",
    "job_name = datetime.utcnow().strftime('keras_{}_%m_%d_%Y_%H%M%S'.format(backend))\n",
    "job = client.jobs.create(cfg.resource_group, cfg.workspace, experiment_name, job_name, parameters).result()\n",
    "print('Created Job {0} in Experiment {1}'.format(job.name, experiment.name))"
   ]
  },
  {
   "cell_type": "code",
   "execution_count": 9,
   "metadata": {},
   "outputs": [
    {
     "name": "stdout",
     "output_type": "stream",
     "text": [
      "Cluster state: resizing Target: 1; Allocated: 0; Idle: 0; Unusable: 0; Running: 0; Preparing: 0; Leaving: 0\n",
      "Job state: queued ExitCode: None\n",
      "Cluster state: resizing Target: 1; Allocated: 0; Idle: 0; Unusable: 0; Running: 0; Preparing: 0; Leaving: 0\n",
      "Job state: queued ExitCode: None\n",
      "Cluster state: resizing Target: 1; Allocated: 0; Idle: 0; Unusable: 0; Running: 0; Preparing: 0; Leaving: 0\n",
      "Job state: queued ExitCode: None\n",
      "Cluster state: resizing Target: 1; Allocated: 0; Idle: 0; Unusable: 0; Running: 0; Preparing: 0; Leaving: 0\n",
      "Job state: queued ExitCode: None\n",
      "Cluster state: resizing Target: 1; Allocated: 0; Idle: 0; Unusable: 0; Running: 0; Preparing: 0; Leaving: 0\n",
      "Job state: queued ExitCode: None\n",
      "Cluster state: resizing Target: 1; Allocated: 0; Idle: 0; Unusable: 0; Running: 0; Preparing: 0; Leaving: 0\n",
      "Job state: queued ExitCode: None\n",
      "Cluster state: resizing Target: 1; Allocated: 0; Idle: 0; Unusable: 0; Running: 0; Preparing: 0; Leaving: 0\n",
      "Job state: queued ExitCode: None\n",
      "Cluster state: resizing Target: 1; Allocated: 0; Idle: 0; Unusable: 0; Running: 0; Preparing: 0; Leaving: 0\n",
      "Job state: queued ExitCode: None\n",
      "Cluster state: resizing Target: 1; Allocated: 0; Idle: 0; Unusable: 0; Running: 0; Preparing: 0; Leaving: 0\n",
      "Job state: queued ExitCode: None\n",
      "Cluster state: resizing Target: 1; Allocated: 1; Idle: 0; Unusable: 0; Running: 0; Preparing: 1; Leaving: 0\n",
      "Job state: queued ExitCode: None\n",
      "Cluster state: resizing Target: 1; Allocated: 1; Idle: 0; Unusable: 0; Running: 0; Preparing: 1; Leaving: 0\n",
      "Job state: queued ExitCode: None\n",
      "Cluster state: resizing Target: 1; Allocated: 1; Idle: 0; Unusable: 0; Running: 0; Preparing: 1; Leaving: 0\n",
      "Job state: queued ExitCode: None\n",
      "Cluster state: steady Target: 1; Allocated: 1; Idle: 0; Unusable: 0; Running: 0; Preparing: 1; Leaving: 0\n",
      "Job state: queued ExitCode: None\n",
      "Cluster state: steady Target: 1; Allocated: 1; Idle: 0; Unusable: 0; Running: 0; Preparing: 1; Leaving: 0\n",
      "Job state: queued ExitCode: None\n",
      "Cluster state: steady Target: 1; Allocated: 1; Idle: 0; Unusable: 0; Running: 0; Preparing: 1; Leaving: 0\n",
      "Job state: queued ExitCode: None\n",
      "Cluster state: steady Target: 1; Allocated: 1; Idle: 0; Unusable: 0; Running: 0; Preparing: 1; Leaving: 0\n",
      "Job state: queued ExitCode: None\n",
      "Cluster state: steady Target: 1; Allocated: 1; Idle: 0; Unusable: 0; Running: 0; Preparing: 1; Leaving: 0\n",
      "Job state: queued ExitCode: None\n",
      "Cluster state: steady Target: 1; Allocated: 1; Idle: 0; Unusable: 0; Running: 0; Preparing: 1; Leaving: 0\n",
      "Job state: queued ExitCode: None\n",
      "Cluster state: steady Target: 1; Allocated: 1; Idle: 0; Unusable: 0; Running: 0; Preparing: 1; Leaving: 0\n",
      "Job state: queued ExitCode: None\n",
      "Cluster state: steady Target: 1; Allocated: 1; Idle: 0; Unusable: 0; Running: 0; Preparing: 1; Leaving: 0\n",
      "Job state: queued ExitCode: None\n",
      "Cluster state: steady Target: 1; Allocated: 1; Idle: 0; Unusable: 0; Running: 0; Preparing: 1; Leaving: 0\n",
      "Job state: queued ExitCode: None\n",
      "Cluster state: steady Target: 1; Allocated: 1; Idle: 0; Unusable: 0; Running: 0; Preparing: 1; Leaving: 0\n",
      "Job state: queued ExitCode: None\n",
      "Cluster state: steady Target: 1; Allocated: 1; Idle: 0; Unusable: 0; Running: 0; Preparing: 1; Leaving: 0\n",
      "Job state: queued ExitCode: None\n",
      "Cluster state: steady Target: 1; Allocated: 1; Idle: 0; Unusable: 0; Running: 0; Preparing: 1; Leaving: 0\n",
      "Job state: queued ExitCode: None\n",
      "Cluster state: steady Target: 1; Allocated: 1; Idle: 0; Unusable: 0; Running: 0; Preparing: 1; Leaving: 0\n",
      "Job state: queued ExitCode: None\n",
      "Cluster state: steady Target: 1; Allocated: 1; Idle: 0; Unusable: 0; Running: 0; Preparing: 1; Leaving: 0\n",
      "Job state: queued ExitCode: None\n",
      "Cluster state: steady Target: 1; Allocated: 1; Idle: 0; Unusable: 0; Running: 0; Preparing: 1; Leaving: 0\n",
      "Job state: queued ExitCode: None\n",
      "Cluster state: steady Target: 1; Allocated: 1; Idle: 0; Unusable: 0; Running: 0; Preparing: 1; Leaving: 0\n",
      "Job state: queued ExitCode: None\n",
      "Cluster state: steady Target: 1; Allocated: 1; Idle: 0; Unusable: 0; Running: 0; Preparing: 1; Leaving: 0\n",
      "Job state: queued ExitCode: None\n",
      "Cluster state: steady Target: 1; Allocated: 1; Idle: 0; Unusable: 0; Running: 0; Preparing: 1; Leaving: 0\n",
      "Job state: queued ExitCode: None\n",
      "Cluster state: steady Target: 1; Allocated: 1; Idle: 0; Unusable: 0; Running: 0; Preparing: 1; Leaving: 0\n",
      "Job state: queued ExitCode: None\n",
      "Cluster state: steady Target: 1; Allocated: 1; Idle: 0; Unusable: 0; Running: 0; Preparing: 1; Leaving: 0\n",
      "Job state: queued ExitCode: None\n",
      "Cluster state: steady Target: 1; Allocated: 1; Idle: 0; Unusable: 0; Running: 0; Preparing: 1; Leaving: 0\n",
      "Job state: queued ExitCode: None\n",
      "Cluster state: steady Target: 1; Allocated: 1; Idle: 0; Unusable: 0; Running: 0; Preparing: 1; Leaving: 0\n",
      "Job state: queued ExitCode: None\n",
      "Cluster state: steady Target: 1; Allocated: 1; Idle: 0; Unusable: 0; Running: 0; Preparing: 1; Leaving: 0\n",
      "Job state: queued ExitCode: None\n",
      "Cluster state: steady Target: 1; Allocated: 1; Idle: 0; Unusable: 0; Running: 0; Preparing: 1; Leaving: 0\n",
      "Job state: queued ExitCode: None\n",
      "Cluster state: steady Target: 1; Allocated: 1; Idle: 0; Unusable: 0; Running: 0; Preparing: 1; Leaving: 0\n",
      "Job state: queued ExitCode: None\n",
      "Cluster state: steady Target: 1; Allocated: 1; Idle: 0; Unusable: 0; Running: 0; Preparing: 1; Leaving: 0\n",
      "Job state: queued ExitCode: None\n",
      "Cluster state: steady Target: 1; Allocated: 1; Idle: 0; Unusable: 0; Running: 0; Preparing: 1; Leaving: 0\n",
      "Job state: queued ExitCode: None\n",
      "Cluster state: steady Target: 1; Allocated: 1; Idle: 0; Unusable: 0; Running: 0; Preparing: 1; Leaving: 0\n",
      "Job state: running ExitCode: None\n",
      "Waiting for job output to become available...\n",
      "Downloading data from https://github.com/fchollet/deep-learning-models/releases/download/v0.2/resnet50_weights_tf_dim_ordering_tf_kernels_notop.h5\n",
      "\n",
      "    8192/94653016 [..............................] - ETA: 16s\n",
      " 1376256/94653016 [..............................] - ETA: 3s \n",
      " 5677056/94653016 [>.............................] - ETA: 1s\n",
      "13697024/94653016 [===>..........................] - ETA: 0s\n",
      "21528576/94653016 [=====>........................] - ETA: 0s\n",
      "29614080/94653016 [========>.....................] - ETA: 0s\n",
      "36028416/94653016 [==========>...................] - ETA: 0s\n",
      "41009152/94653016 [===========>..................] - ETA: 0s\n",
      "46104576/94653016 [=============>................] - ETA: 0s\n",
      "51093504/94653016 [===============>..............] - ETA: 0s\n",
      "56139776/94653016 [================>.............] - ETA: 0s\n",
      "61235200/94653016 [==================>...........] - ETA: 0s\n",
      "66150400/94653016 [===================>..........] - ETA: 0s\n",
      "71147520/94653016 [=====================>........] - ETA: 0s\n",
      "76152832/94653016 [=======================>......] - ETA: 0s\n",
      "81223680/94653016 [========================>.....] - ETA: 0s\n",
      "86204416/94653016 [==========================>...] - ETA: 0s\n",
      "91217920/94653016 [===========================>..] - ETA: 0s\n",
      "94658560/94653016 [==============================] - 1s 0us/step\n",
      "Loaded model from disk\n",
      "Found 2487 images belonging to 4 classes.\n",
      "{'NEUTROPHIL': 3, 'EOSINOPHIL': 0, 'MONOCYTE': 2, 'LYMPHOCYTE': 1}\n",
      "Found 9957 images belonging to 4 classes.\n",
      "Found 2487 images belonging to 4 classes.\n",
      "Epoch 1/1\n",
      "\n",
      "  1/311 [..............................] - ETA: 35:42 - loss: 0.3194 - acc: 0.8750\n",
      "  2/311 [..............................] - ETA: 24:12 - loss: 0.8605 - acc: 0.7188\n",
      "  3/311 [..............................] - ETA: 23:46 - loss: 0.7291 - acc: 0.7604\n",
      "  4/311 [..............................] - ETA: 23:17 - loss: 0.6255 - acc: 0.7891\n",
      "  5/311 [..............................] - ETA: 23:08 - loss: 0.5802 - acc: 0.7937\n",
      "  6/311 [..............................] - ETA: 22:44 - loss: 0.5239 - acc: 0.8229\n",
      "  7/311 [..............................] - ETA: 22:43 - loss: 0.5148 - acc: 0.8214\n",
      "  8/311 [..............................] - ETA: 22:42 - loss: 0.4985 - acc: 0.8281\n",
      "  9/311 [..............................] - ETA: 22:20 - loss: 0.5053 - acc: 0.8194\n",
      " 10/311 [..............................] - ETA: 22:34 - loss: 0.5143 - acc: 0.8187\n",
      " 11/311 [>.............................] - ETA: 22:29 - loss: 0.5031 - acc: 0.8267\n",
      " 12/311 [>.............................] - ETA: 22:35 - loss: 0.5150 - acc: 0.8099\n"
     ]
    },
    {
     "name": "stdout",
     "output_type": "stream",
     "text": [
      " 13/311 [>.............................] - ETA: 22:33 - loss: 0.5138 - acc: 0.8053\n",
      " 14/311 [>.............................] - ETA: 22:21 - loss: 0.5106 - acc: 0.8080\n",
      " 15/311 [>.............................] - ETA: 22:26 - loss: 0.5011 - acc: 0.8125\n",
      " 16/311 [>.............................] - ETA: 22:30 - loss: 0.5108 - acc: 0.8086\n",
      " 17/311 [>.............................] - ETA: 22:14 - loss: 0.5122 - acc: 0.8033\n",
      " 18/311 [>.............................] - ETA: 22:08 - loss: 0.5097 - acc: 0.8073\n",
      " 19/311 [>.............................] - ETA: 22:07 - loss: 0.5131 - acc: 0.8076\n",
      " 20/311 [>.............................] - ETA: 21:57 - loss: 0.5123 - acc: 0.8094\n",
      " 21/311 [=>............................] - ETA: 22:02 - loss: 0.5135 - acc: 0.8065\n",
      " 22/311 [=>............................] - ETA: 21:59 - loss: 0.5052 - acc: 0.8111\n",
      " 23/311 [=>............................] - ETA: 21:54 - loss: 0.5008 - acc: 0.8152\n",
      " 24/311 [=>............................] - ETA: 21:54 - loss: 0.5003 - acc: 0.8164\n",
      " 25/311 [=>............................] - ETA: 21:55 - loss: 0.4961 - acc: 0.8175\n",
      " 26/311 [=>............................] - ETA: 21:46 - loss: 0.4899 - acc: 0.8185\n",
      " 27/311 [=>............................] - ETA: 22:12 - loss: 0.4991 - acc: 0.8148\n",
      " 28/311 [=>............................] - ETA: 22:15 - loss: 0.4961 - acc: 0.8158\n",
      " 29/311 [=>............................] - ETA: 22:17 - loss: 0.5029 - acc: 0.8103\n",
      " 30/311 [=>............................] - ETA: 22:10 - loss: 0.5012 - acc: 0.8115\n",
      " 31/311 [=>............................] - ETA: 22:03 - loss: 0.4950 - acc: 0.8155\n",
      " 32/311 [==>...........................] - ETA: 21:53 - loss: 0.4947 - acc: 0.8145\n",
      " 33/311 [==>...........................] - ETA: 21:51 - loss: 0.4913 - acc: 0.8144\n",
      " 34/311 [==>...........................] - ETA: 21:51 - loss: 0.4943 - acc: 0.8116\n",
      " 35/311 [==>...........................] - ETA: 21:52 - loss: 0.4959 - acc: 0.8098\n",
      " 36/311 [==>...........................] - ETA: 21:48 - loss: 0.4953 - acc: 0.8116\n",
      " 37/311 [==>...........................] - ETA: 21:41 - loss: 0.4946 - acc: 0.8125\n",
      " 38/311 [==>...........................] - ETA: 21:34 - loss: 0.4926 - acc: 0.8150\n",
      " 39/311 [==>...........................] - ETA: 21:24 - loss: 0.4929 - acc: 0.8157\n",
      " 40/311 [==>...........................] - ETA: 21:31 - loss: 0.4920 - acc: 0.8164\n",
      " 41/311 [==>...........................] - ETA: 21:24 - loss: 0.4884 - acc: 0.8178\n",
      " 42/311 [===>..........................] - ETA: 21:12 - loss: 0.4845 - acc: 0.8192\n",
      " 43/311 [===>..........................] - ETA: 20:59 - loss: 0.4876 - acc: 0.8190\n",
      " 44/311 [===>..........................] - ETA: 20:52 - loss: 0.4881 - acc: 0.8182\n",
      " 45/311 [===>..........................] - ETA: 20:44 - loss: 0.4871 - acc: 0.8174\n",
      " 46/311 [===>..........................] - ETA: 20:38 - loss: 0.4854 - acc: 0.8173\n",
      " 47/311 [===>..........................] - ETA: 20:30 - loss: 0.4872 - acc: 0.8152\n",
      " 48/311 [===>..........................] - ETA: 20:23 - loss: 0.4844 - acc: 0.8164\n",
      " 49/311 [===>..........................] - ETA: 20:19 - loss: 0.4861 - acc: 0.8151\n",
      " 50/311 [===>..........................] - ETA: 20:23 - loss: 0.4840 - acc: 0.8156\n",
      " 51/311 [===>..........................] - ETA: 20:20 - loss: 0.4842 - acc: 0.8137\n",
      " 52/311 [====>.........................] - ETA: 20:17 - loss: 0.4833 - acc: 0.8143\n",
      " 53/311 [====>.........................] - ETA: 20:12 - loss: 0.4815 - acc: 0.8154\n",
      " 54/311 [====>.........................] - ETA: 20:03 - loss: 0.4798 - acc: 0.8166\n",
      " 55/311 [====>.........................] - ETA: 19:53 - loss: 0.4772 - acc: 0.8182\n",
      " 56/311 [====>.........................] - ETA: 19:45 - loss: 0.4792 - acc: 0.8181\n",
      " 57/311 [====>.........................] - ETA: 19:36 - loss: 0.4779 - acc: 0.8185\n",
      " 58/311 [====>.........................] - ETA: 19:27 - loss: 0.4771 - acc: 0.8173\n",
      " 59/311 [====>.........................] - ETA: 19:18 - loss: 0.4753 - acc: 0.8189\n",
      " 60/311 [====>.........................] - ETA: 19:12 - loss: 0.4729 - acc: 0.8198\n",
      " 61/311 [====>.........................] - ETA: 19:06 - loss: 0.4722 - acc: 0.8207\n",
      " 62/311 [====>.........................] - ETA: 19:00 - loss: 0.4731 - acc: 0.8185\n",
      " 63/311 [=====>........................] - ETA: 19:02 - loss: 0.4701 - acc: 0.8199\n",
      " 64/311 [=====>........................] - ETA: 18:56 - loss: 0.4663 - acc: 0.8223\n",
      " 65/311 [=====>........................] - ETA: 18:52 - loss: 0.4666 - acc: 0.8207\n",
      " 66/311 [=====>........................] - ETA: 18:47 - loss: 0.4662 - acc: 0.8215\n",
      " 67/311 [=====>........................] - ETA: 18:40 - loss: 0.4643 - acc: 0.8223\n",
      " 68/311 [=====>........................] - ETA: 18:35 - loss: 0.4684 - acc: 0.8203\n",
      " 69/311 [=====>........................] - ETA: 18:30 - loss: 0.4700 - acc: 0.8202\n",
      " 70/311 [=====>........................] - ETA: 18:25 - loss: 0.4720 - acc: 0.8187\n",
      " 71/311 [=====>........................] - ETA: 18:20 - loss: 0.4708 - acc: 0.8191\n",
      " 72/311 [=====>........................] - ETA: 18:16 - loss: 0.4729 - acc: 0.8181\n",
      " 73/311 [======>.......................] - ETA: 18:12 - loss: 0.4716 - acc: 0.8193\n",
      " 74/311 [======>.......................] - ETA: 18:06 - loss: 0.4702 - acc: 0.8201\n",
      " 75/311 [======>.......................] - ETA: 18:01 - loss: 0.4691 - acc: 0.8204\n",
      " 76/311 [======>.......................] - ETA: 17:53 - loss: 0.4704 - acc: 0.8195\n",
      " 77/311 [======>.......................] - ETA: 17:50 - loss: 0.4713 - acc: 0.8198\n",
      " 78/311 [======>.......................] - ETA: 17:45 - loss: 0.4697 - acc: 0.8205\n",
      " 79/311 [======>.......................] - ETA: 17:40 - loss: 0.4709 - acc: 0.8196\n",
      " 80/311 [======>.......................] - ETA: 17:35 - loss: 0.4688 - acc: 0.8207\n",
      " 81/311 [======>.......................] - ETA: 17:28 - loss: 0.4685 - acc: 0.8198\n",
      " 82/311 [======>.......................] - ETA: 17:22 - loss: 0.4705 - acc: 0.8186\n",
      " 83/311 [=======>......................] - ETA: 17:18 - loss: 0.4697 - acc: 0.8197\n",
      " 84/311 [=======>......................] - ETA: 17:14 - loss: 0.4707 - acc: 0.8192\n",
      " 85/311 [=======>......................] - ETA: 17:09 - loss: 0.4731 - acc: 0.8184\n",
      " 86/311 [=======>......................] - ETA: 17:03 - loss: 0.4725 - acc: 0.8187\n",
      " 87/311 [=======>......................] - ETA: 16:58 - loss: 0.4723 - acc: 0.8190\n",
      " 88/311 [=======>......................] - ETA: 16:53 - loss: 0.4714 - acc: 0.8203\n",
      " 89/311 [=======>......................] - ETA: 16:49 - loss: 0.4713 - acc: 0.8202\n",
      " 90/311 [=======>......................] - ETA: 16:45 - loss: 0.4744 - acc: 0.8187\n",
      " 91/311 [=======>......................] - ETA: 16:39 - loss: 0.4741 - acc: 0.8190\n",
      " 92/311 [=======>......................] - ETA: 16:35 - loss: 0.4763 - acc: 0.8179\n",
      " 93/311 [=======>......................] - ETA: 16:31 - loss: 0.4790 - acc: 0.8169\n",
      " 94/311 [========>.....................] - ETA: 16:24 - loss: 0.4798 - acc: 0.8162\n",
      " 95/311 [========>.....................] - ETA: 16:19 - loss: 0.4787 - acc: 0.8164\n",
      " 96/311 [========>.....................] - ETA: 16:16 - loss: 0.4777 - acc: 0.8177\n",
      " 97/311 [========>.....................] - ETA: 16:11 - loss: 0.4770 - acc: 0.8183\n",
      " 98/311 [========>.....................] - ETA: 16:07 - loss: 0.4772 - acc: 0.8189\n",
      " 99/311 [========>.....................] - ETA: 16:02 - loss: 0.4774 - acc: 0.8182\n",
      "100/311 [========>.....................] - ETA: 15:58 - loss: 0.4783 - acc: 0.8172\n",
      "101/311 [========>.....................] - ETA: 15:53 - loss: 0.4808 - acc: 0.8165\n",
      "102/311 [========>.....................] - ETA: 15:49 - loss: 0.4802 - acc: 0.8168\n",
      "103/311 [========>.....................] - ETA: 15:43 - loss: 0.4815 - acc: 0.8149\n",
      "104/311 [=========>....................] - ETA: 15:38 - loss: 0.4818 - acc: 0.8143\n",
      "105/311 [=========>....................] - ETA: 15:34 - loss: 0.4815 - acc: 0.8143\n",
      "106/311 [=========>....................] - ETA: 15:30 - loss: 0.4836 - acc: 0.8131\n",
      "107/311 [=========>....................] - ETA: 15:26 - loss: 0.4852 - acc: 0.8122\n",
      "108/311 [=========>....................] - ETA: 15:21 - loss: 0.4842 - acc: 0.8134\n",
      "109/311 [=========>....................] - ETA: 15:16 - loss: 0.4818 - acc: 0.8148\n",
      "110/311 [=========>....................] - ETA: 15:13 - loss: 0.4797 - acc: 0.8159\n",
      "111/311 [=========>....................] - ETA: 15:08 - loss: 0.4782 - acc: 0.8170\n",
      "112/311 [=========>....................] - ETA: 15:03 - loss: 0.4785 - acc: 0.8167\n"
     ]
    },
    {
     "name": "stdout",
     "output_type": "stream",
     "text": [
      "113/311 [=========>....................] - ETA: 14:59 - loss: 0.4791 - acc: 0.8158\n",
      "114/311 [=========>....................] - ETA: 14:54 - loss: 0.4768 - acc: 0.8169\n",
      "115/311 [==========>...................] - ETA: 14:50 - loss: 0.4750 - acc: 0.8179\n",
      "116/311 [==========>...................] - ETA: 14:46 - loss: 0.4745 - acc: 0.8187\n",
      "117/311 [==========>...................] - ETA: 14:41 - loss: 0.4746 - acc: 0.8176\n",
      "118/311 [==========>...................] - ETA: 14:36 - loss: 0.4748 - acc: 0.8175\n",
      "119/311 [==========>...................] - ETA: 14:32 - loss: 0.4757 - acc: 0.8178\n",
      "120/311 [==========>...................] - ETA: 14:29 - loss: 0.4765 - acc: 0.8172\n",
      "121/311 [==========>...................] - ETA: 14:25 - loss: 0.4798 - acc: 0.8153\n",
      "122/311 [==========>...................] - ETA: 14:22 - loss: 0.4794 - acc: 0.8158\n",
      "123/311 [==========>...................] - ETA: 14:18 - loss: 0.4783 - acc: 0.8163\n",
      "124/311 [==========>...................] - ETA: 14:14 - loss: 0.4770 - acc: 0.8165\n",
      "125/311 [===========>..................] - ETA: 14:10 - loss: 0.4757 - acc: 0.8170\n",
      "126/311 [===========>..................] - ETA: 14:06 - loss: 0.4750 - acc: 0.8172\n",
      "127/311 [===========>..................] - ETA: 14:02 - loss: 0.4743 - acc: 0.8179\n",
      "128/311 [===========>..................] - ETA: 13:58 - loss: 0.4737 - acc: 0.8179\n",
      "129/311 [===========>..................] - ETA: 13:55 - loss: 0.4728 - acc: 0.8181\n",
      "130/311 [===========>..................] - ETA: 13:52 - loss: 0.4739 - acc: 0.8178\n",
      "131/311 [===========>..................] - ETA: 13:48 - loss: 0.4734 - acc: 0.8173\n",
      "132/311 [===========>..................] - ETA: 13:42 - loss: 0.4723 - acc: 0.8179\n",
      "133/311 [===========>..................] - ETA: 13:38 - loss: 0.4717 - acc: 0.8181\n",
      "134/311 [===========>..................] - ETA: 13:34 - loss: 0.4700 - acc: 0.8190\n",
      "135/311 [============>.................] - ETA: 13:29 - loss: 0.4690 - acc: 0.8197\n",
      "136/311 [============>.................] - ETA: 13:24 - loss: 0.4699 - acc: 0.8192\n",
      "137/311 [============>.................] - ETA: 13:19 - loss: 0.4699 - acc: 0.8189\n",
      "138/311 [============>.................] - ETA: 13:16 - loss: 0.4707 - acc: 0.8184\n",
      "139/311 [============>.................] - ETA: 13:11 - loss: 0.4719 - acc: 0.8172\n",
      "140/311 [============>.................] - ETA: 13:06 - loss: 0.4718 - acc: 0.8172\n",
      "141/311 [============>.................] - ETA: 13:01 - loss: 0.4736 - acc: 0.8163\n",
      "142/311 [============>.................] - ETA: 12:57 - loss: 0.4729 - acc: 0.8162\n",
      "143/311 [============>.................] - ETA: 12:54 - loss: 0.4731 - acc: 0.8160\n",
      "144/311 [============>.................] - ETA: 12:49 - loss: 0.4718 - acc: 0.8168\n",
      "145/311 [============>.................] - ETA: 12:44 - loss: 0.4715 - acc: 0.8168\n",
      "146/311 [=============>................] - ETA: 12:39 - loss: 0.4706 - acc: 0.8170\n",
      "147/311 [=============>................] - ETA: 12:35 - loss: 0.4719 - acc: 0.8165\n",
      "148/311 [=============>................] - ETA: 12:29 - loss: 0.4712 - acc: 0.8171\n",
      "149/311 [=============>................] - ETA: 12:26 - loss: 0.4708 - acc: 0.8173\n",
      "150/311 [=============>................] - ETA: 12:22 - loss: 0.4707 - acc: 0.8175\n",
      "151/311 [=============>................] - ETA: 12:20 - loss: 0.4700 - acc: 0.8181\n",
      "152/311 [=============>................] - ETA: 12:16 - loss: 0.4694 - acc: 0.8187\n",
      "153/311 [=============>................] - ETA: 12:11 - loss: 0.4688 - acc: 0.8188\n",
      "154/311 [=============>................] - ETA: 12:07 - loss: 0.4682 - acc: 0.8192\n",
      "155/311 [=============>................] - ETA: 12:02 - loss: 0.4690 - acc: 0.8190\n",
      "156/311 [==============>...............] - ETA: 11:58 - loss: 0.4680 - acc: 0.8191\n",
      "157/311 [==============>...............] - ETA: 11:53 - loss: 0.4680 - acc: 0.8189\n",
      "158/311 [==============>...............] - ETA: 11:48 - loss: 0.4679 - acc: 0.8186\n",
      "159/311 [==============>...............] - ETA: 11:44 - loss: 0.4680 - acc: 0.8182\n",
      "160/311 [==============>...............] - ETA: 11:39 - loss: 0.4673 - acc: 0.8182\n",
      "161/311 [==============>...............] - ETA: 11:34 - loss: 0.4659 - acc: 0.8189\n",
      "162/311 [==============>...............] - ETA: 11:30 - loss: 0.4667 - acc: 0.8187\n",
      "163/311 [==============>...............] - ETA: 11:26 - loss: 0.4662 - acc: 0.8186\n",
      "164/311 [==============>...............] - ETA: 11:21 - loss: 0.4646 - acc: 0.8192\n",
      "165/311 [==============>...............] - ETA: 11:17 - loss: 0.4643 - acc: 0.8195\n",
      "166/311 [===============>..............] - ETA: 11:11 - loss: 0.4643 - acc: 0.8195\n",
      "167/311 [===============>..............] - ETA: 11:06 - loss: 0.4635 - acc: 0.8198\n",
      "168/311 [===============>..............] - ETA: 11:02 - loss: 0.4624 - acc: 0.8203\n",
      "169/311 [===============>..............] - ETA: 10:57 - loss: 0.4619 - acc: 0.8205\n",
      "170/311 [===============>..............] - ETA: 10:52 - loss: 0.4613 - acc: 0.8204\n",
      "171/311 [===============>..............] - ETA: 10:48 - loss: 0.4610 - acc: 0.8205\n",
      "172/311 [===============>..............] - ETA: 10:44 - loss: 0.4605 - acc: 0.8207\n",
      "173/311 [===============>..............] - ETA: 10:40 - loss: 0.4605 - acc: 0.8212\n",
      "174/311 [===============>..............] - ETA: 10:35 - loss: 0.4606 - acc: 0.8213\n",
      "175/311 [===============>..............] - ETA: 10:31 - loss: 0.4607 - acc: 0.8211\n",
      "176/311 [===============>..............] - ETA: 10:27 - loss: 0.4605 - acc: 0.8207\n",
      "177/311 [================>.............] - ETA: 10:23 - loss: 0.4604 - acc: 0.8210\n",
      "178/311 [================>.............] - ETA: 10:19 - loss: 0.4600 - acc: 0.8213\n",
      "179/311 [================>.............] - ETA: 10:14 - loss: 0.4615 - acc: 0.8211\n",
      "180/311 [================>.............] - ETA: 10:09 - loss: 0.4615 - acc: 0.8210\n",
      "181/311 [================>.............] - ETA: 10:05 - loss: 0.4612 - acc: 0.8211\n",
      "182/311 [================>.............] - ETA: 10:01 - loss: 0.4612 - acc: 0.8213\n",
      "183/311 [================>.............] - ETA: 9:57 - loss: 0.4603 - acc: 0.8216 \n",
      "184/311 [================>.............] - ETA: 9:52 - loss: 0.4598 - acc: 0.8220\n",
      "185/311 [================>.............] - ETA: 9:47 - loss: 0.4598 - acc: 0.8223\n",
      "186/311 [================>.............] - ETA: 9:42 - loss: 0.4602 - acc: 0.8224\n",
      "187/311 [=================>............] - ETA: 9:37 - loss: 0.4600 - acc: 0.8227\n",
      "188/311 [=================>............] - ETA: 9:33 - loss: 0.4602 - acc: 0.8226\n",
      "189/311 [=================>............] - ETA: 9:28 - loss: 0.4595 - acc: 0.8229\n",
      "190/311 [=================>............] - ETA: 9:23 - loss: 0.4609 - acc: 0.8225\n",
      "191/311 [=================>............] - ETA: 9:19 - loss: 0.4613 - acc: 0.8220\n",
      "192/311 [=================>............] - ETA: 9:15 - loss: 0.4610 - acc: 0.8224\n",
      "193/311 [=================>............] - ETA: 9:10 - loss: 0.4604 - acc: 0.8229\n",
      "194/311 [=================>............] - ETA: 9:06 - loss: 0.4599 - acc: 0.8233\n",
      "195/311 [=================>............] - ETA: 9:01 - loss: 0.4590 - acc: 0.8237\n",
      "196/311 [=================>............] - ETA: 8:56 - loss: 0.4584 - acc: 0.8240\n",
      "197/311 [==================>...........] - ETA: 8:52 - loss: 0.4583 - acc: 0.8241\n",
      "198/311 [==================>...........] - ETA: 8:47 - loss: 0.4603 - acc: 0.8239\n",
      "199/311 [==================>...........] - ETA: 8:42 - loss: 0.4608 - acc: 0.8235\n",
      "200/311 [==================>...........] - ETA: 8:37 - loss: 0.4608 - acc: 0.8237\n",
      "201/311 [==================>...........] - ETA: 8:32 - loss: 0.4610 - acc: 0.8235\n",
      "202/311 [==================>...........] - ETA: 8:27 - loss: 0.4613 - acc: 0.8233\n",
      "203/311 [==================>...........] - ETA: 8:22 - loss: 0.4604 - acc: 0.8239\n",
      "204/311 [==================>...........] - ETA: 8:17 - loss: 0.4606 - acc: 0.8237\n",
      "205/311 [==================>...........] - ETA: 8:12 - loss: 0.4603 - acc: 0.8236\n",
      "206/311 [==================>...........] - ETA: 8:08 - loss: 0.4600 - acc: 0.8240\n",
      "207/311 [==================>...........] - ETA: 8:03 - loss: 0.4595 - acc: 0.8243\n",
      "208/311 [===================>..........] - ETA: 7:59 - loss: 0.4582 - acc: 0.8250\n",
      "209/311 [===================>..........] - ETA: 7:54 - loss: 0.4575 - acc: 0.8252\n",
      "210/311 [===================>..........] - ETA: 7:49 - loss: 0.4572 - acc: 0.8251\n",
      "211/311 [===================>..........] - ETA: 7:44 - loss: 0.4571 - acc: 0.8254\n"
     ]
    },
    {
     "name": "stdout",
     "output_type": "stream",
     "text": [
      "212/311 [===================>..........] - ETA: 7:40 - loss: 0.4569 - acc: 0.8253\n",
      "213/311 [===================>..........] - ETA: 7:35 - loss: 0.4562 - acc: 0.8257\n",
      "214/311 [===================>..........] - ETA: 7:31 - loss: 0.4563 - acc: 0.8261\n",
      "215/311 [===================>..........] - ETA: 7:26 - loss: 0.4572 - acc: 0.8259\n",
      "216/311 [===================>..........] - ETA: 7:21 - loss: 0.4571 - acc: 0.8258\n",
      "217/311 [===================>..........] - ETA: 7:16 - loss: 0.4570 - acc: 0.8260\n",
      "218/311 [====================>.........] - ETA: 7:11 - loss: 0.4567 - acc: 0.8260\n",
      "219/311 [====================>.........] - ETA: 7:06 - loss: 0.4569 - acc: 0.8258\n",
      "220/311 [====================>.........] - ETA: 7:01 - loss: 0.4561 - acc: 0.8261\n",
      "221/311 [====================>.........] - ETA: 6:57 - loss: 0.4555 - acc: 0.8264\n",
      "222/311 [====================>.........] - ETA: 6:52 - loss: 0.4567 - acc: 0.8259\n",
      "223/311 [====================>.........] - ETA: 6:48 - loss: 0.4570 - acc: 0.8257\n",
      "224/311 [====================>.........] - ETA: 6:43 - loss: 0.4576 - acc: 0.8256\n",
      "225/311 [====================>.........] - ETA: 6:39 - loss: 0.4573 - acc: 0.8258\n",
      "226/311 [====================>.........] - ETA: 6:34 - loss: 0.4569 - acc: 0.8263\n",
      "227/311 [====================>.........] - ETA: 6:30 - loss: 0.4583 - acc: 0.8256\n",
      "228/311 [====================>.........] - ETA: 6:25 - loss: 0.4587 - acc: 0.8254\n",
      "229/311 [=====================>........] - ETA: 6:20 - loss: 0.4587 - acc: 0.8255\n",
      "230/311 [=====================>........] - ETA: 6:16 - loss: 0.4592 - acc: 0.8253\n",
      "231/311 [=====================>........] - ETA: 6:11 - loss: 0.4595 - acc: 0.8247\n",
      "232/311 [=====================>........] - ETA: 6:06 - loss: 0.4599 - acc: 0.8244\n",
      "233/311 [=====================>........] - ETA: 6:02 - loss: 0.4598 - acc: 0.8240\n",
      "234/311 [=====================>........] - ETA: 5:57 - loss: 0.4595 - acc: 0.8243\n",
      "235/311 [=====================>........] - ETA: 5:52 - loss: 0.4585 - acc: 0.8249\n",
      "236/311 [=====================>........] - ETA: 5:48 - loss: 0.4578 - acc: 0.8252\n",
      "237/311 [=====================>........] - ETA: 5:43 - loss: 0.4578 - acc: 0.8254\n",
      "238/311 [=====================>........] - ETA: 5:39 - loss: 0.4592 - acc: 0.8252\n",
      "239/311 [======================>.......] - ETA: 5:34 - loss: 0.4593 - acc: 0.8252\n",
      "240/311 [======================>.......] - ETA: 5:29 - loss: 0.4589 - acc: 0.8254\n",
      "241/311 [======================>.......] - ETA: 5:25 - loss: 0.4584 - acc: 0.8256\n",
      "242/311 [======================>.......] - ETA: 5:20 - loss: 0.4583 - acc: 0.8253\n",
      "243/311 [======================>.......] - ETA: 5:15 - loss: 0.4587 - acc: 0.8251\n",
      "244/311 [======================>.......] - ETA: 5:11 - loss: 0.4593 - acc: 0.8247\n",
      "245/311 [======================>.......] - ETA: 5:06 - loss: 0.4587 - acc: 0.8249\n",
      "246/311 [======================>.......] - ETA: 5:01 - loss: 0.4592 - acc: 0.8247\n",
      "247/311 [======================>.......] - ETA: 4:57 - loss: 0.4581 - acc: 0.8252\n",
      "248/311 [======================>.......] - ETA: 4:52 - loss: 0.4581 - acc: 0.8252\n",
      "249/311 [=======================>......] - ETA: 4:47 - loss: 0.4580 - acc: 0.8252\n",
      "250/311 [=======================>......] - ETA: 4:43 - loss: 0.4576 - acc: 0.8251\n",
      "251/311 [=======================>......] - ETA: 4:38 - loss: 0.4583 - acc: 0.8250\n",
      "252/311 [=======================>......] - ETA: 4:33 - loss: 0.4593 - acc: 0.8244\n",
      "253/311 [=======================>......] - ETA: 4:29 - loss: 0.4595 - acc: 0.8246\n",
      "254/311 [=======================>......] - ETA: 4:24 - loss: 0.4598 - acc: 0.8246\n",
      "255/311 [=======================>......] - ETA: 4:19 - loss: 0.4602 - acc: 0.8245\n",
      "256/311 [=======================>......] - ETA: 4:15 - loss: 0.4599 - acc: 0.8246\n",
      "257/311 [=======================>......] - ETA: 4:10 - loss: 0.4590 - acc: 0.8250\n",
      "258/311 [=======================>......] - ETA: 4:06 - loss: 0.4587 - acc: 0.8251\n",
      "259/311 [=======================>......] - ETA: 4:01 - loss: 0.4584 - acc: 0.8252\n",
      "260/311 [========================>.....] - ETA: 3:56 - loss: 0.4581 - acc: 0.8255\n",
      "261/311 [========================>.....] - ETA: 3:52 - loss: 0.4581 - acc: 0.8256\n",
      "262/311 [========================>.....] - ETA: 3:47 - loss: 0.4580 - acc: 0.8256\n",
      "263/311 [========================>.....] - ETA: 3:42 - loss: 0.4588 - acc: 0.8250\n",
      "264/311 [========================>.....] - ETA: 3:37 - loss: 0.4580 - acc: 0.8255\n",
      "265/311 [========================>.....] - ETA: 3:33 - loss: 0.4578 - acc: 0.8256\n",
      "266/311 [========================>.....] - ETA: 3:28 - loss: 0.4583 - acc: 0.8253\n",
      "267/311 [========================>.....] - ETA: 3:23 - loss: 0.4584 - acc: 0.8250\n",
      "268/311 [========================>.....] - ETA: 3:18 - loss: 0.4583 - acc: 0.8250\n",
      "269/311 [========================>.....] - ETA: 3:14 - loss: 0.4585 - acc: 0.8250\n",
      "270/311 [=========================>....] - ETA: 3:09 - loss: 0.4584 - acc: 0.8249\n",
      "271/311 [=========================>....] - ETA: 3:04 - loss: 0.4583 - acc: 0.8248\n",
      "272/311 [=========================>....] - ETA: 3:00 - loss: 0.4583 - acc: 0.8249\n",
      "273/311 [=========================>....] - ETA: 2:55 - loss: 0.4577 - acc: 0.8253\n",
      "274/311 [=========================>....] - ETA: 2:50 - loss: 0.4575 - acc: 0.8254\n",
      "275/311 [=========================>....] - ETA: 2:46 - loss: 0.4577 - acc: 0.8251\n",
      "276/311 [=========================>....] - ETA: 2:41 - loss: 0.4579 - acc: 0.8251\n",
      "277/311 [=========================>....] - ETA: 2:36 - loss: 0.4576 - acc: 0.8251\n",
      "278/311 [=========================>....] - ETA: 2:32 - loss: 0.4581 - acc: 0.8251\n",
      "279/311 [=========================>....] - ETA: 2:27 - loss: 0.4585 - acc: 0.8247\n",
      "280/311 [==========================>...] - ETA: 2:22 - loss: 0.4577 - acc: 0.8251\n",
      "281/311 [==========================>...] - ETA: 2:18 - loss: 0.4580 - acc: 0.8250\n",
      "282/311 [==========================>...] - ETA: 2:13 - loss: 0.4584 - acc: 0.8248\n",
      "283/311 [==========================>...] - ETA: 2:08 - loss: 0.4593 - acc: 0.8241\n",
      "284/311 [==========================>...] - ETA: 2:04 - loss: 0.4588 - acc: 0.8243\n",
      "285/311 [==========================>...] - ETA: 1:59 - loss: 0.4584 - acc: 0.8246\n",
      "286/311 [==========================>...] - ETA: 1:55 - loss: 0.4580 - acc: 0.8246\n",
      "287/311 [==========================>...] - ETA: 1:50 - loss: 0.4587 - acc: 0.8243\n",
      "288/311 [==========================>...] - ETA: 1:45 - loss: 0.4590 - acc: 0.8241\n",
      "289/311 [==========================>...] - ETA: 1:41 - loss: 0.4589 - acc: 0.8241\n",
      "290/311 [==========================>...] - ETA: 1:36 - loss: 0.4583 - acc: 0.8241\n",
      "291/311 [===========================>..] - ETA: 1:31 - loss: 0.4578 - acc: 0.8243\n",
      "292/311 [===========================>..] - ETA: 1:27 - loss: 0.4580 - acc: 0.8242\n",
      "293/311 [===========================>..] - ETA: 1:22 - loss: 0.4581 - acc: 0.8241\n",
      "294/311 [===========================>..] - ETA: 1:18 - loss: 0.4577 - acc: 0.8244\n",
      "295/311 [===========================>..] - ETA: 1:13 - loss: 0.4581 - acc: 0.8243\n",
      "296/311 [===========================>..] - ETA: 1:08 - loss: 0.4575 - acc: 0.8246\n",
      "297/311 [===========================>..] - ETA: 1:04 - loss: 0.4580 - acc: 0.8245\n",
      "298/311 [===========================>..] - ETA: 59s - loss: 0.4594 - acc: 0.8238 \n",
      "299/311 [===========================>..] - ETA: 54s - loss: 0.4594 - acc: 0.8239\n",
      "300/311 [===========================>..] - ETA: 50s - loss: 0.4594 - acc: 0.8239\n",
      "301/311 [============================>.] - ETA: 45s - loss: 0.4594 - acc: 0.8240\n",
      "302/311 [============================>.] - ETA: 41s - loss: 0.4596 - acc: 0.8239\n",
      "303/311 [============================>.] - ETA: 36s - loss: 0.4603 - acc: 0.8233\n",
      "304/311 [============================>.] - ETA: 32s - loss: 0.4609 - acc: 0.8230\n",
      "305/311 [============================>.] - ETA: 27s - loss: 0.4610 - acc: 0.8230\n",
      "306/311 [============================>.] - ETA: 22s - loss: 0.4609 - acc: 0.8228\n",
      "307/311 [============================>.] - ETA: 18s - loss: 0.4613 - acc: 0.8227\n",
      "308/311 [============================>.] - ETA: 13s - loss: 0.4618 - acc: 0.8224\n",
      "309/311 [============================>.] - ETA: 9s - loss: 0.4616 - acc: 0.8226 \n",
      "310/311 [============================>.] - ETA: 4s - loss: 0.4612 - acc: 0.8225\n",
      "311/311 [==============================] - 1731s 6s/step - loss: 0.4620 - acc: 0.8223 - val_loss: 3.7644 - val_acc: 0.3214\n",
      "Generating confusion matrix 9957\n"
     ]
    },
    {
     "name": "stdout",
     "output_type": "stream",
     "text": [
      "Found 9957 images belonging to 4 classes.\n",
      "50\n",
      "100\n",
      "150\n",
      "[[   0  349 2142    6]\n",
      " [   0  949 1534    0]\n",
      " [   0   97 2381    0]\n",
      " [   0  284 2190   25]]\n",
      "Generating confusion matrix 2487\n",
      "Found 2487 images belonging to 4 classes.\n"
     ]
    },
    {
     "name": "stderr",
     "output_type": "stream",
     "text": [
      "Token expired or is invalid. Attempting to refresh.\n",
      "Keyring cache token has failed: (1783, 'CredWrite', 'The stub received bad data')\n"
     ]
    },
    {
     "name": "stdout",
     "output_type": "stream",
     "text": [
      "[[  0 120 500   3]\n",
      " [  0 218 402   0]\n",
      " [  0  11 609   0]\n",
      " [  0  88 533   3]]\n",
      "Saved model to disk\n",
      "Job state: succeeded ExitCode: 0\n"
     ]
    }
   ],
   "source": [
    "if backend == 'tensorflow':\n",
    "    read_file = 'stdout-wk-0.txt'\n",
    "elif backend == 'cntk':\n",
    "    read_file = 'stdout.txt'\n",
    "import utilities\n",
    "\n",
    "utilities.wait_for_job_completion(client, cfg.resource_group, cfg.workspace, \n",
    "                                  experiment_name, job_name, cluster_name, 'stdouterr', read_file)"
   ]
  },
  {
   "cell_type": "code",
   "execution_count": 10,
   "metadata": {},
   "outputs": [
    {
     "name": "stdout",
     "output_type": "stream",
     "text": [
      "best_model.h5 None\n",
      "best_model.json None\n",
      "labels.csv None\n",
      "model.h5 None\n",
      "model.json None\n",
      "pretrained_resnet.py None\n",
      "60be94cf-bd71-4d05-b7ce-d05fb5968d66 None\n",
      "ChestCTscan None\n",
      "gans None\n",
      "images None\n"
     ]
    }
   ],
   "source": [
    "from azure.storage.file import FileService\n",
    "file_service = FileService(cfg.storage_account_name, cfg.storage_account_key)\n",
    "generator = file_service.list_directories_and_files('bloodcell')\n",
    "for file_or_dir in generator:\n",
    "    print(file_or_dir.name, file_or_dir.metadata)"
   ]
  },
  {
   "cell_type": "code",
   "execution_count": null,
   "metadata": {},
   "outputs": [],
   "source": []
  },
  {
   "cell_type": "code",
   "execution_count": 11,
   "metadata": {},
   "outputs": [],
   "source": [
    "_ = client.jobs.delete(cfg.resource_group, cfg.workspace, experiment_name, job_name)"
   ]
  },
  {
   "cell_type": "code",
   "execution_count": 12,
   "metadata": {},
   "outputs": [],
   "source": [
    "_ = client.clusters.delete(cfg.resource_group, cfg.workspace, cluster_name)"
   ]
  },
  {
   "cell_type": "code",
   "execution_count": 13,
   "metadata": {},
   "outputs": [
    {
     "name": "stderr",
     "output_type": "stream",
     "text": [
      "Using TensorFlow backend.\n"
     ]
    },
    {
     "name": "stdout",
     "output_type": "stream",
     "text": [
      "Loaded model from disk\n"
     ]
    }
   ],
   "source": [
    "# load json and create model\n",
    "from keras.models import model_from_yaml\n",
    "from keras.models import model_from_json\n",
    "\n",
    "# serialize model to JSON\n",
    "import os\n",
    "json_file = open('best_model.json', 'r')\n",
    "loaded_model_json = json_file.read()\n",
    "#json_file.close()\n",
    "loaded_model = model_from_json(loaded_model_json)\n",
    "# load weights into new model\n",
    "loaded_model.load_weights(\"best_model.h5\")\n",
    "print(\"Loaded model from disk\")\n",
    "loaded_model.compile(\n",
    "  loss='categorical_crossentropy',\n",
    "  optimizer='rmsprop',\n",
    "  metrics=['accuracy']\n",
    ")"
   ]
  },
  {
   "cell_type": "code",
   "execution_count": 14,
   "metadata": {
    "scrolled": true
   },
   "outputs": [
    {
     "name": "stdout",
     "output_type": "stream",
     "text": [
      "NEUTROPHIL 2499\n",
      "EOSINOPHIL 2497\n",
      "MONOCYTE 2478\n",
      "LYMPHOCYTE 2483\n"
     ]
    }
   ],
   "source": [
    "dict_characters = {1:'NEUTROPHIL',2:'EOSINOPHIL',3:'MONOCYTE',4:'LYMPHOCYTE'}\n",
    "for i in range(1,5):\n",
    "    print(dict_characters[i],len(os.listdir('./images/TRAIN/{}'.format(dict_characters[i]))))"
   ]
  },
  {
   "cell_type": "code",
   "execution_count": 15,
   "metadata": {},
   "outputs": [
    {
     "name": "stdout",
     "output_type": "stream",
     "text": [
      "NEUTROPHIL\n",
      "['_0_1966.jpeg', '_10_170.jpeg', '_11_1721.jpeg', '_12_4753.jpeg', '_13_7598.jpeg', '_14_4489.jpeg', '_15_9520.jpeg', '_16_3623.jpeg', '_17_9949.jpeg', '_18_4469.jpeg', '_19_4489.jpeg', '_1_2118.jpeg', '_20_9752.jpeg', '_21_6827.jpeg', '_22_2921.jpeg', '_23_6221.jpeg', '_24_8655.jpeg', '_25_8686.jpeg', '_26_3624.jpeg', '_27_4190.jpeg', '_28_4752.jpeg', '_29_1866.jpeg', '_2_1918.jpeg', '_30_4636.jpeg', '_31_3491.jpeg', '_32_2063.jpeg', '_33_390.jpeg', '_34_3330.jpeg', '_35_5434.jpeg', '_36_5118.jpeg', '_37_3964.jpeg', '_38_4586.jpeg', '_39_1103.jpeg', '_3_1003.jpeg', '_40_7251.jpeg', '_41_2530.jpeg', '_42_8715.jpeg', '_43_289.jpeg', '_44_8974.jpeg', '_45_5733.jpeg', '_46_2162.jpeg', '_47_8207.jpeg', '_4_1395.jpeg', '_5_1480.jpeg', '_6_2289.jpeg', '_7_8956.jpeg', '_8_6417.jpeg', '_9_8786.jpeg']\n"
     ]
    }
   ],
   "source": [
    "\n",
    "import random\n",
    "import os\n",
    "dict_characters = {1:'NEUTROPHIL',2:'EOSINOPHIL',3:'MONOCYTE',4:'LYMPHOCYTE'}\n",
    "dict_characters2 = {0:'Mononuclear',1:'Polynuclear'}\n",
    "bloodtype=dict_characters[random.randint(1,4)]\n",
    "print(bloodtype)\n",
    "list_files=os.listdir('./images/TEST_SIMPLE/{}'.format(bloodtype))\n",
    "print(list_files)\n",
    "f=random.choice(list_files)"
   ]
  },
  {
   "cell_type": "code",
   "execution_count": 16,
   "metadata": {},
   "outputs": [
    {
     "name": "stdout",
     "output_type": "stream",
     "text": [
      "(197, 197, 3)\n"
     ]
    },
    {
     "name": "stderr",
     "output_type": "stream",
     "text": [
      "C:\\Users\\zecharpy\\AppData\\Local\\Continuum\\anaconda3\\envs\\pymc_py36\\lib\\site-packages\\ipykernel_launcher.py:28: DeprecationWarning: `imresize` is deprecated!\n",
      "`imresize` is deprecated in SciPy 1.0.0, and will be removed in 1.2.0.\n",
      "Use ``skimage.transform.resize`` instead.\n"
     ]
    },
    {
     "data": {
      "image/png": "[encoded data removed]",
      "text/plain": [
       "<Figure size 432x288 with 1 Axes>"
      ]
     },
     "metadata": {},
     "output_type": "display_data"
    }
   ],
   "source": [
    "from __future__ import print_function, division\n",
    "\n",
    "from builtins import range, input\n",
    "\n",
    "# Note: you may need to update your version of future\n",
    "\n",
    "# sudo pip install -U future\n",
    "\n",
    "from keras.layers import Input, Lambda, Dense, Flatten\n",
    "from keras.models import Model\n",
    "from keras.applications.resnet50 import ResNet50, preprocess_input\n",
    "# from keras.applications.inception_v3 import InceptionV3, preprocess_input\n",
    "from keras.preprocessing import image\n",
    "from keras.preprocessing.image import ImageDataGenerator\n",
    "from sklearn.metrics import confusion_matrix\n",
    "import numpy as np\n",
    "import matplotlib.pyplot as plt\n",
    "from IPython.display import display, Image\n",
    "from scipy import ndimage\n",
    "import scipy.misc\n",
    "from glob import glob\n",
    "%matplotlib inline\n",
    "dict_characters = {1:'NEUTROPHIL',2:'EOSINOPHIL',3:'MONOCYTE',4:'LYMPHOCYTE'}\n",
    "dict_characters2 = {0:'Mononuclear',1:'Polynuclear'}\n",
    "\n",
    "\n",
    "img=(plt.imread('./images/TEST_SIMPLE/'+bloodtype+'/'+f).astype(float) - 255.0 / 2)/ 255.0\n",
    "img=scipy.misc.imresize(img, (197,197,3))\n",
    "\n",
    "print(img.shape)\n",
    "plt.imshow(img)\n",
    "plt.title(bloodtype)\n",
    "img=img.reshape(-1,197,197,3)"
   ]
  },
  {
   "cell_type": "code",
   "execution_count": 17,
   "metadata": {},
   "outputs": [
    {
     "name": "stdout",
     "output_type": "stream",
     "text": [
      "model prediction is  NEUTROPHIL\n"
     ]
    }
   ],
   "source": [
    "out=loaded_model.predict(img)\n",
    "print(\"model prediction is \",dict_characters[np.argmax(out)])"
   ]
  }
 ],
 "metadata": {
  "kernelspec": {
   "display_name": "Python 3",
   "language": "python",
   "name": "python3"
  },
  "language_info": {
   "codemirror_mode": {
    "name": "ipython",
    "version": 3
   },
   "file_extension": ".py",
   "mimetype": "text/x-python",
   "name": "python",
   "nbconvert_exporter": "python",
   "pygments_lexer": "ipython3",
   "version": "3.6.5"
  }
 },
 "nbformat": 4,
 "nbformat_minor": 2
}
