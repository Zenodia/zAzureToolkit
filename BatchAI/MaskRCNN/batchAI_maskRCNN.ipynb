{
 "cells": [
  {
   "cell_type": "code",
   "execution_count": 1,
   "metadata": {},
   "outputs": [
    {
     "name": "stderr",
     "output_type": "stream",
     "text": [
      "Keyring cache token has failed: (1783, 'CredWrite', 'The stub received bad data')\n"
     ]
    }
   ],
   "source": [
    "from __future__ import print_function\n",
    "\n",
    "from datetime import datetime\n",
    "import sys\n",
    "\n",
    "from azure.storage.file import FileService\n",
    "import azure.mgmt.batchai.models as models\n",
    "\n",
    "# utilities.py contains helper functions used by different notebooks\n",
    "#sys.path.append('../../')\n",
    "import utilities\n",
    "\n",
    "cfg = utilities.Configuration('configuration.json')\n",
    "client = utilities.create_batchai_client(cfg)"
   ]
  },
  {
   "cell_type": "code",
   "execution_count": 2,
   "metadata": {},
   "outputs": [
    {
     "name": "stderr",
     "output_type": "stream",
     "text": [
      "Keyring cache token has failed: (1783, 'CredWrite', 'The stub received bad data')\n"
     ]
    }
   ],
   "source": [
    "utilities.create_resource_group(cfg)\n",
    "_ = client.workspaces.create(cfg.resource_group, cfg.workspace, cfg.location).result()"
   ]
  },
  {
   "cell_type": "code",
   "execution_count": 3,
   "metadata": {},
   "outputs": [],
   "source": [
    "\n",
    "nodes_count = 2\n",
    "cluster_name = 'nc6dsvm'\n",
    "\n",
    "parameters = models.ClusterCreateParameters(\n",
    "    #location=cfg.location,\n",
    "    vm_size='STANDARD_NC6',\n",
    "    scale_settings=models.ScaleSettings(\n",
    "        manual=models.ManualScaleSettings(target_node_count=nodes_count)\n",
    "    ), \n",
    "    ####### comment out this section when want to use docker image instead of dsvm###########\n",
    "    virtual_machine_configuration=models.VirtualMachineConfiguration(\n",
    "        image_reference=models.ImageReference(\n",
    "            publisher=\"microsoft-ads\",\n",
    "            offer=\"linux-data-science-vm-ubuntu\",\n",
    "            sku=\"linuxdsvmubuntu\",\n",
    "            version=\"latest\")),\n",
    "    ###################comment out end ####################################\n",
    "    user_account_settings=models.UserAccountSettings(\n",
    "        admin_user_name=cfg.admin,\n",
    "        admin_user_password=cfg.admin_password or None,\n",
    "        admin_user_ssh_public_key=cfg.admin_ssh_key or None,\n",
    "    )\n",
    ")"
   ]
  },
  {
   "cell_type": "code",
   "execution_count": 4,
   "metadata": {},
   "outputs": [],
   "source": [
    "_ = client.clusters.create(cfg.resource_group, cfg.workspace, cluster_name, parameters).result()"
   ]
  },
  {
   "cell_type": "code",
   "execution_count": 5,
   "metadata": {},
   "outputs": [
    {
     "name": "stdout",
     "output_type": "stream",
     "text": [
      "Cluster state: steady Target: 2; Allocated: 2; Idle: 2; Unusable: 0; Running: 0; Preparing: 0; Leaving: 0\n"
     ]
    }
   ],
   "source": [
    "cluster = client.clusters.get(cfg.resource_group, cfg.workspace, cluster_name)\n",
    "utilities.print_cluster_status(cluster)"
   ]
  },
  {
   "cell_type": "code",
   "execution_count": 6,
   "metadata": {},
   "outputs": [],
   "source": [
    "backend = 'tensorflow'"
   ]
  },
  {
   "cell_type": "code",
   "execution_count": 7,
   "metadata": {},
   "outputs": [],
   "source": [
    "if backend == 'tensorflow':\n",
    "    parameters = models.JobCreateParameters(\n",
    "        #location=cfg.location,\n",
    "        cluster=models.ResourceId(id=cluster.id),\n",
    "        node_count=1,\n",
    "        job_preparation=models.JobPreparation(command_line='python -m pip install keras==2.1.6 scikit-image scikit-learn opencv-contrib-python-headless pillow numpy'),\n",
    "        ####### only comment out the below when you use docker instead of dsvm in parameters block above\n",
    "         #container_settings=models.ContainerSettings(\n",
    "         #    image_source_registry=models.ImageSourceRegistry(image='tensorflow/tensorflow:1.8.0-gpu-py3')),\n",
    "        ######### commend end #########################\n",
    "        mount_volumes=models.MountVolumes(\n",
    "            azure_file_shares=[\n",
    "            models.AzureFileShareReference(\n",
    "            account_name=cfg.storage_account_name,\n",
    "            credentials=models.AzureStorageCredentialsInfo(\n",
    "            account_key=cfg.storage_account_key),\n",
    "            azure_file_url='https://{0}.file.core.windows.net/{1}'.format(\n",
    "            cfg.storage_account_name, 'datasets'), ## bloodcell is the name of the fileshare\n",
    "            relative_mount_path='afs')\n",
    "            ]\n",
    "         ),\n",
    "        std_out_err_path_prefix='$AZ_BATCHAI_JOB_MOUNT_ROOT/afs/maskRCNN', ## here afs equal to bloodshare level\n",
    "        tensor_flow_settings=models.TensorFlowSettings(\n",
    "             python_script_file_path='$AZ_BATCHAI_JOB_MOUNT_ROOT/afs/maskRCNN/balloon.py',\n",
    "             master_command_line_args='train --dataset $AZ_BATCHAI_JOB_MOUNT_ROOT/afs/maskRCNN/datasets/microscopy/ --weights imagenet --save_model $AZ_BATCHAI_JOB_MOUNT_ROOT/afs/maskRCNN/ --epochs 10 --logs $AZ_BATCHAI_JOB_MOUNT_ROOT/afs/maskRCNN/ ')) "
   ]
  },
  {
   "cell_type": "code",
   "execution_count": 8,
   "metadata": {},
   "outputs": [
    {
     "name": "stdout",
     "output_type": "stream",
     "text": [
      "Created Job keras_tensorflow_09_09_2018_191056 in Experiment microscopy_maskrcnn\n"
     ]
    }
   ],
   "source": [
    "experiment_name = 'microscopy_maskRCNN'\n",
    "experiment = client.experiments.create(cfg.resource_group, cfg.workspace, experiment_name).result()\n",
    "job_name = datetime.utcnow().strftime('keras_{}_%m_%d_%Y_%H%M%S'.format(backend))\n",
    "job = client.jobs.create(cfg.resource_group, cfg.workspace, experiment_name, job_name, parameters).result()\n",
    "print('Created Job {0} in Experiment {1}'.format(job.name, experiment.name))"
   ]
  },
  {
   "cell_type": "code",
   "execution_count": 9,
   "metadata": {},
   "outputs": [
    {
     "name": "stdout",
     "output_type": "stream",
     "text": [
      "Cluster state: steady Target: 2; Allocated: 2; Idle: 2; Unusable: 0; Running: 0; Preparing: 0; Leaving: 0\n",
      "Job state: running ExitCode: None\n",
      "Waiting for job output to become available...\n",
      "args command subset is  train\n",
      "Weights:  imagenet\n",
      "Logs:  /mnt/batch/tasks/shared/LS_root/jobs/zbatchai/microscopy_maskrcnn/keras_tensorflow_09_09_2018_191056/mounts/afs/maskRCNN/\n",
      "\n",
      "Configurations:\n",
      "BACKBONE                       resnet101\n",
      "BACKBONE_SHAPES                [[16 16]\n",
      " [ 8  8]\n",
      " [ 4  4]\n",
      " [ 2  2]\n",
      " [ 1  1]]\n",
      "BACKBONE_STRIDES               [4, 8, 16, 32, 64]\n",
      "BATCH_SIZE                     5\n",
      "BBOX_STD_DEV                   [0.1 0.1 0.2 0.2]\n",
      "DETECTION_MAX_INSTANCES        100\n",
      "DETECTION_MIN_CONFIDENCE       0.9\n",
      "DETECTION_NMS_THRESHOLD        0.3\n",
      "GPU_COUNT                      1\n",
      "IMAGES_PER_GPU                 5\n",
      "IMAGE_MAX_DIM                  64\n",
      "IMAGE_MIN_DIM                  64\n",
      "IMAGE_PADDING                  True\n",
      "IMAGE_SHAPE                    [64 64  3]\n",
      "LEARNING_MOMENTUM              0.9\n",
      "LEARNING_RATE                  0.001\n",
      "MASK_POOL_SIZE                 14\n",
      "MASK_SHAPE                     [28, 28]\n",
      "MAX_GT_INSTANCES               100\n",
      "MEAN_PIXEL                     [123.7 116.8 103.9]\n",
      "MINI_MASK_SHAPE                (56, 56)\n",
      "NAME                           sarcomas\n",
      "NUM_CLASSES                    2\n",
      "POOL_SIZE                      7\n",
      "POST_NMS_ROIS_INFERENCE        1000\n",
      "POST_NMS_ROIS_TRAINING         2000\n",
      "ROI_POSITIVE_RATIO             0.33\n",
      "RPN_ANCHOR_RATIOS              [0.5, 1, 2]\n",
      "RPN_ANCHOR_SCALES              (32, 64, 128, 256, 512)\n",
      "RPN_ANCHOR_STRIDE              1\n",
      "RPN_BBOX_STD_DEV               [0.1 0.1 0.2 0.2]\n",
      "RPN_NMS_THRESHOLD              0.7\n",
      "RPN_TRAIN_ANCHORS_PER_IMAGE    256\n",
      "STEPS_PER_EPOCH                10\n",
      "TRAIN_ROIS_PER_IMAGE           200\n",
      "USE_MINI_MASK                  True\n",
      "USE_RPN_ROIS                   True\n",
      "VALIDATION_STEPS               50\n",
      "WEIGHT_DECAY                   0.0001\n",
      "\n",
      "\n",
      "Loading weights  /home/_azbatch/.keras/models/resnet50_weights_tf_dim_ordering_tf_kernels_notop.h5\n",
      "after ifelse dataset_dir /mnt/batch/tasks/shared/LS_root/jobs/zbatchai/microscopy_maskrcnn/keras_tensorflow_09_09_2018_191056/mounts/afs/maskRCNN/datasets/microscopy/train/\n",
      "after ifelse dataset_dir /mnt/batch/tasks/shared/LS_root/jobs/zbatchai/microscopy_maskrcnn/keras_tensorflow_09_09_2018_191056/mounts/afs/maskRCNN/datasets/microscopy/val/\n",
      "Training network heads\n",
      "\n",
      "Starting at epoch 0. LR=0.001\n",
      "\n",
      "Checkpoint Path: /mnt/batch/tasks/shared/LS_root/jobs/zbatchai/microscopy_maskrcnn/keras_tensorflow_09_09_2018_191056/mounts/afs/maskRCNN/sarcomas20180909T1911/mask_rcnn_sarcomas_{epoch:04d}.h5\n",
      "Selecting layers to train\n",
      "fpn_c5p5               (Conv2D)\n",
      "fpn_c4p4               (Conv2D)\n",
      "fpn_c3p3               (Conv2D)\n",
      "fpn_c2p2               (Conv2D)\n",
      "fpn_p5                 (Conv2D)\n",
      "fpn_p2                 (Conv2D)\n",
      "fpn_p3                 (Conv2D)\n",
      "fpn_p4                 (Conv2D)\n",
      "In model:  rpn_model\n",
      "    rpn_conv_shared        (Conv2D)\n",
      "    rpn_class_raw          (Conv2D)\n",
      "    rpn_bbox_pred          (Conv2D)\n",
      "mrcnn_mask_conv1       (TimeDistributed)\n",
      "mrcnn_mask_bn1         (TimeDistributed)\n",
      "mrcnn_mask_conv2       (TimeDistributed)\n",
      "mrcnn_mask_bn2         (TimeDistributed)\n",
      "mrcnn_class_conv1      (TimeDistributed)\n",
      "mrcnn_class_bn1        (TimeDistributed)\n",
      "mrcnn_mask_conv3       (TimeDistributed)\n",
      "mrcnn_mask_bn3         (TimeDistributed)\n",
      "mrcnn_class_conv2      (TimeDistributed)\n",
      "mrcnn_class_bn2        (TimeDistributed)\n",
      "mrcnn_mask_conv4       (TimeDistributed)\n",
      "mrcnn_mask_bn4         (TimeDistributed)\n",
      "mrcnn_bbox_fc          (TimeDistributed)\n",
      "mrcnn_mask_deconv      (TimeDistributed)\n",
      "mrcnn_class_logits     (TimeDistributed)\n",
      "mrcnn_mask             (TimeDistributed)\n",
      "Epoch 1/10\n",
      "\n",
      " 1/10 [==>...........................] - ETA: 3:30 - loss: 10.0037 - rpn_class_loss: 3.1820 - rpn_bbox_loss: 2.5890 - mrcnn_class_loss: 1.9651 - mrcnn_bbox_loss: 1.5721 - mrcnn_mask_loss: 0.6956\n",
      " 2/10 [=====>........................] - ETA: 1:40 - loss: 9.0854 - rpn_class_loss: 3.0438 - rpn_bbox_loss: 2.5082 - mrcnn_class_loss: 1.5477 - mrcnn_bbox_loss: 1.2902 - mrcnn_mask_loss: 0.6955 \n",
      " 3/10 [========>.....................] - ETA: 1:02 - loss: 8.3030 - rpn_class_loss: 2.8465 - rpn_bbox_loss: 2.4381 - mrcnn_class_loss: 1.1884 - mrcnn_bbox_loss: 1.1342 - mrcnn_mask_loss: 0.6958\n",
      " 4/10 [===========>..................] - ETA: 42s - loss: 7.7090 - rpn_class_loss: 2.5832 - rpn_bbox_loss: 2.3724 - mrcnn_class_loss: 0.9580 - mrcnn_bbox_loss: 1.1031 - mrcnn_mask_loss: 0.6923 \n",
      " 5/10 [==============>...............] - ETA: 30s - loss: 7.0719 - rpn_class_loss: 2.3181 - rpn_bbox_loss: 2.1919 - mrcnn_class_loss: 0.8005 - mrcnn_bbox_loss: 1.0705 - mrcnn_mask_loss: 0.6909\n",
      " 6/10 [=================>............] - ETA: 21s - loss: 6.6603 - rpn_class_loss: 2.0531 - rpn_bbox_loss: 2.1144 - mrcnn_class_loss: 0.7062 - mrcnn_bbox_loss: 1.0934 - mrcnn_mask_loss: 0.6933\n",
      " 7/10 [====================>.........] - ETA: 14s - loss: 6.3997 - rpn_class_loss: 1.8337 - rpn_bbox_loss: 2.0816 - mrcnn_class_loss: 0.6623 - mrcnn_bbox_loss: 1.1288 - mrcnn_mask_loss: 0.6934\n",
      " 8/10 [=======================>......] - ETA: 8s - loss: 6.1011 - rpn_class_loss: 1.6518 - rpn_bbox_loss: 2.0267 - mrcnn_class_loss: 0.6160 - mrcnn_bbox_loss: 1.1144 - mrcnn_mask_loss: 0.6923 \n",
      " 9/10 [==========================>...] - ETA: 4s - loss: 5.8249 - rpn_class_loss: 1.5078 - rpn_bbox_loss: 1.9784 - mrcnn_class_loss: 0.5702 - mrcnn_bbox_loss: 1.0751 - mrcnn_mask_loss: 0.6934\n",
      "10/10 [==============================] - 43s 4s/step - loss: 5.6342 - rpn_class_loss: 1.3856 - rpn_bbox_loss: 1.9648 - mrcnn_class_loss: 0.5290 - mrcnn_bbox_loss: 1.0621 - mrcnn_mask_loss: 0.6926 - val_loss: 4.8814 - val_rpn_class_loss: 0.2038 - val_rpn_bbox_loss: 2.8133 - val_mrcnn_class_loss: 0.1000 - val_mrcnn_bbox_loss: 1.0644 - val_mrcnn_mask_loss: 0.6999\n",
      "Epoch 2/10\n",
      "\n",
      " 1/10 [==>...........................] - ETA: 15s - loss: 3.5525 - rpn_class_loss: 0.3164 - rpn_bbox_loss: 1.3082 - mrcnn_class_loss: 0.2009 - mrcnn_bbox_loss: 1.0650 - mrcnn_mask_loss: 0.6620\n",
      " 2/10 [=====>........................] - ETA: 13s - loss: 3.4542 - rpn_class_loss: 0.3225 - rpn_bbox_loss: 1.2748 - mrcnn_class_loss: 0.1876 - mrcnn_bbox_loss: 1.0028 - mrcnn_mask_loss: 0.6666\n",
      " 3/10 [========>.....................] - ETA: 11s - loss: 3.2705 - rpn_class_loss: 0.2865 - rpn_bbox_loss: 1.2061 - mrcnn_class_loss: 0.1961 - mrcnn_bbox_loss: 0.9146 - mrcnn_mask_loss: 0.6673\n",
      " 4/10 [===========>..................] - ETA: 10s - loss: 3.1363 - rpn_class_loss: 0.2778 - rpn_bbox_loss: 1.1173 - mrcnn_class_loss: 0.1864 - mrcnn_bbox_loss: 0.8836 - mrcnn_mask_loss: 0.6712\n",
      " 5/10 [==============>...............] - ETA: 8s - loss: 3.0279 - rpn_class_loss: 0.2702 - rpn_bbox_loss: 1.0248 - mrcnn_class_loss: 0.1891 - mrcnn_bbox_loss: 0.8770 - mrcnn_mask_loss: 0.6668 \n",
      " 6/10 [=================>............] - ETA: 6s - loss: 2.9949 - rpn_class_loss: 0.2605 - rpn_bbox_loss: 1.0444 - mrcnn_class_loss: 0.1830 - mrcnn_bbox_loss: 0.8434 - mrcnn_mask_loss: 0.6636\n",
      " 7/10 [====================>.........] - ETA: 5s - loss: 2.9413 - rpn_class_loss: 0.2462 - rpn_bbox_loss: 1.0448 - mrcnn_class_loss: 0.1771 - mrcnn_bbox_loss: 0.8121 - mrcnn_mask_loss: 0.6610\n",
      " 8/10 [=======================>......] - ETA: 3s - loss: 2.9394 - rpn_class_loss: 0.2371 - rpn_bbox_loss: 1.0750 - mrcnn_class_loss: 0.1689 - mrcnn_bbox_loss: 0.7979 - mrcnn_mask_loss: 0.6605\n",
      " 9/10 [==========================>...] - ETA: 1s - loss: 2.9079 - rpn_class_loss: 0.2378 - rpn_bbox_loss: 1.0580 - mrcnn_class_loss: 0.1627 - mrcnn_bbox_loss: 0.7901 - mrcnn_mask_loss: 0.6592\n",
      "10/10 [==============================] - 18s 2s/step - loss: 2.8541 - rpn_class_loss: 0.2346 - rpn_bbox_loss: 1.0235 - mrcnn_class_loss: 0.1648 - mrcnn_bbox_loss: 0.7743 - mrcnn_mask_loss: 0.6569 - val_loss: 3.4377 - val_rpn_class_loss: 0.0953 - val_rpn_bbox_loss: 1.8735 - val_mrcnn_class_loss: 0.0580 - val_mrcnn_bbox_loss: 0.7403 - val_mrcnn_mask_loss: 0.6707\n",
      "Epoch 3/10\n",
      "\n",
      " 1/10 [==>...........................] - ETA: 16s - loss: 2.3545 - rpn_class_loss: 0.1833 - rpn_bbox_loss: 0.8763 - mrcnn_class_loss: 0.1075 - mrcnn_bbox_loss: 0.5345 - mrcnn_mask_loss: 0.6529\n"
     ]
    },
    {
     "name": "stdout",
     "output_type": "stream",
     "text": [
      " 2/10 [=====>........................] - ETA: 13s - loss: 2.2452 - rpn_class_loss: 0.1943 - rpn_bbox_loss: 0.6640 - mrcnn_class_loss: 0.0984 - mrcnn_bbox_loss: 0.6416 - mrcnn_mask_loss: 0.6468\n",
      " 3/10 [========>.....................] - ETA: 12s - loss: 2.1460 - rpn_class_loss: 0.1882 - rpn_bbox_loss: 0.6194 - mrcnn_class_loss: 0.0999 - mrcnn_bbox_loss: 0.5976 - mrcnn_mask_loss: 0.6409\n",
      " 4/10 [===========>..................] - ETA: 10s - loss: 2.1405 - rpn_class_loss: 0.1839 - rpn_bbox_loss: 0.6612 - mrcnn_class_loss: 0.1047 - mrcnn_bbox_loss: 0.5559 - mrcnn_mask_loss: 0.6348\n",
      " 5/10 [==============>...............] - ETA: 8s - loss: 2.1172 - rpn_class_loss: 0.1858 - rpn_bbox_loss: 0.6153 - mrcnn_class_loss: 0.1058 - mrcnn_bbox_loss: 0.5780 - mrcnn_mask_loss: 0.6324 \n",
      " 6/10 [=================>............] - ETA: 6s - loss: 2.1038 - rpn_class_loss: 0.1898 - rpn_bbox_loss: 0.5996 - mrcnn_class_loss: 0.1037 - mrcnn_bbox_loss: 0.5783 - mrcnn_mask_loss: 0.6324\n",
      " 7/10 [====================>.........] - ETA: 5s - loss: 2.0725 - rpn_class_loss: 0.1829 - rpn_bbox_loss: 0.6025 - mrcnn_class_loss: 0.0990 - mrcnn_bbox_loss: 0.5564 - mrcnn_mask_loss: 0.6317\n",
      " 8/10 [=======================>......] - ETA: 3s - loss: 2.0785 - rpn_class_loss: 0.1782 - rpn_bbox_loss: 0.6110 - mrcnn_class_loss: 0.0991 - mrcnn_bbox_loss: 0.5586 - mrcnn_mask_loss: 0.6315\n",
      " 9/10 [==========================>...] - ETA: 1s - loss: 2.0452 - rpn_class_loss: 0.1795 - rpn_bbox_loss: 0.5818 - mrcnn_class_loss: 0.1019 - mrcnn_bbox_loss: 0.5533 - mrcnn_mask_loss: 0.6286\n",
      "10/10 [==============================] - 18s 2s/step - loss: 2.0001 - rpn_class_loss: 0.1782 - rpn_bbox_loss: 0.5568 - mrcnn_class_loss: 0.1032 - mrcnn_bbox_loss: 0.5351 - mrcnn_mask_loss: 0.6269 - val_loss: 3.7384 - val_rpn_class_loss: 0.0698 - val_rpn_bbox_loss: 2.2090 - val_mrcnn_class_loss: 0.0623 - val_mrcnn_bbox_loss: 0.7774 - val_mrcnn_mask_loss: 0.6199\n",
      "Epoch 4/10\n",
      "\n",
      " 1/10 [==>...........................] - ETA: 15s - loss: 1.9223 - rpn_class_loss: 0.1309 - rpn_bbox_loss: 0.5025 - mrcnn_class_loss: 0.1116 - mrcnn_bbox_loss: 0.5436 - mrcnn_mask_loss: 0.6338\n",
      " 2/10 [=====>........................] - ETA: 13s - loss: 1.9474 - rpn_class_loss: 0.1309 - rpn_bbox_loss: 0.5209 - mrcnn_class_loss: 0.1183 - mrcnn_bbox_loss: 0.5461 - mrcnn_mask_loss: 0.6312\n",
      " 3/10 [========>.....................] - ETA: 12s - loss: 1.7980 - rpn_class_loss: 0.1322 - rpn_bbox_loss: 0.4429 - mrcnn_class_loss: 0.1033 - mrcnn_bbox_loss: 0.4923 - mrcnn_mask_loss: 0.6272\n",
      " 4/10 [===========>..................] - ETA: 10s - loss: 1.7685 - rpn_class_loss: 0.1322 - rpn_bbox_loss: 0.4420 - mrcnn_class_loss: 0.0995 - mrcnn_bbox_loss: 0.4698 - mrcnn_mask_loss: 0.6251\n",
      " 5/10 [==============>...............] - ETA: 8s - loss: 1.7548 - rpn_class_loss: 0.1355 - rpn_bbox_loss: 0.4296 - mrcnn_class_loss: 0.1005 - mrcnn_bbox_loss: 0.4650 - mrcnn_mask_loss: 0.6242 \n",
      " 6/10 [=================>............] - ETA: 6s - loss: 1.7230 - rpn_class_loss: 0.1396 - rpn_bbox_loss: 0.4160 - mrcnn_class_loss: 0.0967 - mrcnn_bbox_loss: 0.4499 - mrcnn_mask_loss: 0.6209\n",
      " 7/10 [====================>.........] - ETA: 5s - loss: 1.6835 - rpn_class_loss: 0.1405 - rpn_bbox_loss: 0.3936 - mrcnn_class_loss: 0.0953 - mrcnn_bbox_loss: 0.4363 - mrcnn_mask_loss: 0.6179\n",
      " 8/10 [=======================>......] - ETA: 3s - loss: 1.6434 - rpn_class_loss: 0.1419 - rpn_bbox_loss: 0.3724 - mrcnn_class_loss: 0.0920 - mrcnn_bbox_loss: 0.4234 - mrcnn_mask_loss: 0.6137\n",
      " 9/10 [==========================>...] - ETA: 1s - loss: 1.6579 - rpn_class_loss: 0.1387 - rpn_bbox_loss: 0.3917 - mrcnn_class_loss: 0.0907 - mrcnn_bbox_loss: 0.4232 - mrcnn_mask_loss: 0.6135\n",
      "10/10 [==============================] - 18s 2s/step - loss: 1.6458 - rpn_class_loss: 0.1362 - rpn_bbox_loss: 0.3859 - mrcnn_class_loss: 0.0928 - mrcnn_bbox_loss: 0.4176 - mrcnn_mask_loss: 0.6134 - val_loss: 3.3930 - val_rpn_class_loss: 0.0629 - val_rpn_bbox_loss: 2.0297 - val_mrcnn_class_loss: 0.0532 - val_mrcnn_bbox_loss: 0.6170 - val_mrcnn_mask_loss: 0.6301\n",
      "Epoch 5/10\n",
      "\n",
      " 1/10 [==>...........................] - ETA: 15s - loss: 1.5612 - rpn_class_loss: 0.1312 - rpn_bbox_loss: 0.2976 - mrcnn_class_loss: 0.0810 - mrcnn_bbox_loss: 0.4400 - mrcnn_mask_loss: 0.6113\n",
      " 2/10 [=====>........................] - ETA: 13s - loss: 1.4794 - rpn_class_loss: 0.1224 - rpn_bbox_loss: 0.2945 - mrcnn_class_loss: 0.0826 - mrcnn_bbox_loss: 0.3621 - mrcnn_mask_loss: 0.6177\n",
      " 3/10 [========>.....................] - ETA: 11s - loss: 1.4298 - rpn_class_loss: 0.1149 - rpn_bbox_loss: 0.2655 - mrcnn_class_loss: 0.0820 - mrcnn_bbox_loss: 0.3478 - mrcnn_mask_loss: 0.6197\n",
      " 4/10 [===========>..................] - ETA: 10s - loss: 1.4542 - rpn_class_loss: 0.1182 - rpn_bbox_loss: 0.2945 - mrcnn_class_loss: 0.0813 - mrcnn_bbox_loss: 0.3460 - mrcnn_mask_loss: 0.6141\n",
      " 5/10 [==============>...............] - ETA: 8s - loss: 1.4682 - rpn_class_loss: 0.1154 - rpn_bbox_loss: 0.3000 - mrcnn_class_loss: 0.0852 - mrcnn_bbox_loss: 0.3514 - mrcnn_mask_loss: 0.6163 \n",
      " 6/10 [=================>............] - ETA: 6s - loss: 1.4441 - rpn_class_loss: 0.1162 - rpn_bbox_loss: 0.2945 - mrcnn_class_loss: 0.0791 - mrcnn_bbox_loss: 0.3340 - mrcnn_mask_loss: 0.6202\n",
      " 7/10 [====================>.........] - ETA: 5s - loss: 1.4434 - rpn_class_loss: 0.1197 - rpn_bbox_loss: 0.2817 - mrcnn_class_loss: 0.0777 - mrcnn_bbox_loss: 0.3440 - mrcnn_mask_loss: 0.6203\n",
      " 8/10 [=======================>......] - ETA: 3s - loss: 1.4296 - rpn_class_loss: 0.1188 - rpn_bbox_loss: 0.2776 - mrcnn_class_loss: 0.0795 - mrcnn_bbox_loss: 0.3365 - mrcnn_mask_loss: 0.6173\n",
      " 9/10 [==========================>...] - ETA: 1s - loss: 1.4240 - rpn_class_loss: 0.1191 - rpn_bbox_loss: 0.2747 - mrcnn_class_loss: 0.0802 - mrcnn_bbox_loss: 0.3360 - mrcnn_mask_loss: 0.6140\n",
      "10/10 [==============================] - 18s 2s/step - loss: 1.4140 - rpn_class_loss: 0.1163 - rpn_bbox_loss: 0.2709 - mrcnn_class_loss: 0.0817 - mrcnn_bbox_loss: 0.3302 - mrcnn_mask_loss: 0.6149 - val_loss: 3.3327 - val_rpn_class_loss: 0.0574 - val_rpn_bbox_loss: 1.9263 - val_mrcnn_class_loss: 0.0488 - val_mrcnn_bbox_loss: 0.6768 - val_mrcnn_mask_loss: 0.6234\n",
      "Epoch 6/10\n",
      "\n",
      " 1/10 [==>...........................] - ETA: 16s - loss: 1.2094 - rpn_class_loss: 0.1034 - rpn_bbox_loss: 0.1588 - mrcnn_class_loss: 0.0614 - mrcnn_bbox_loss: 0.2780 - mrcnn_mask_loss: 0.6079\n",
      " 2/10 [=====>........................] - ETA: 14s - loss: 1.1750 - rpn_class_loss: 0.0879 - rpn_bbox_loss: 0.1571 - mrcnn_class_loss: 0.0620 - mrcnn_bbox_loss: 0.2489 - mrcnn_mask_loss: 0.6191\n",
      " 3/10 [========>.....................] - ETA: 12s - loss: 1.1820 - rpn_class_loss: 0.0980 - rpn_bbox_loss: 0.1705 - mrcnn_class_loss: 0.0591 - mrcnn_bbox_loss: 0.2392 - mrcnn_mask_loss: 0.6153\n",
      " 4/10 [===========>..................] - ETA: 10s - loss: 1.1785 - rpn_class_loss: 0.1077 - rpn_bbox_loss: 0.1628 - mrcnn_class_loss: 0.0648 - mrcnn_bbox_loss: 0.2344 - mrcnn_mask_loss: 0.6087\n",
      " 5/10 [==============>...............] - ETA: 8s - loss: 1.1753 - rpn_class_loss: 0.1021 - rpn_bbox_loss: 0.1547 - mrcnn_class_loss: 0.0636 - mrcnn_bbox_loss: 0.2472 - mrcnn_mask_loss: 0.6076 \n",
      " 6/10 [=================>............] - ETA: 6s - loss: 1.1957 - rpn_class_loss: 0.1028 - rpn_bbox_loss: 0.1718 - mrcnn_class_loss: 0.0660 - mrcnn_bbox_loss: 0.2508 - mrcnn_mask_loss: 0.6045\n",
      " 7/10 [====================>.........] - ETA: 5s - loss: 1.2146 - rpn_class_loss: 0.1051 - rpn_bbox_loss: 0.1926 - mrcnn_class_loss: 0.0676 - mrcnn_bbox_loss: 0.2441 - mrcnn_mask_loss: 0.6052\n",
      " 8/10 [=======================>......] - ETA: 3s - loss: 1.2057 - rpn_class_loss: 0.1006 - rpn_bbox_loss: 0.1869 - mrcnn_class_loss: 0.0688 - mrcnn_bbox_loss: 0.2399 - mrcnn_mask_loss: 0.6095\n",
      " 9/10 [==========================>...] - ETA: 1s - loss: 1.2090 - rpn_class_loss: 0.0992 - rpn_bbox_loss: 0.1908 - mrcnn_class_loss: 0.0693 - mrcnn_bbox_loss: 0.2416 - mrcnn_mask_loss: 0.6081\n",
      "10/10 [==============================] - 18s 2s/step - loss: 1.2261 - rpn_class_loss: 0.0985 - rpn_bbox_loss: 0.2003 - mrcnn_class_loss: 0.0703 - mrcnn_bbox_loss: 0.2499 - mrcnn_mask_loss: 0.6072 - val_loss: 3.2178 - val_rpn_class_loss: 0.0614 - val_rpn_bbox_loss: 1.8160 - val_mrcnn_class_loss: 0.0517 - val_mrcnn_bbox_loss: 0.6634 - val_mrcnn_mask_loss: 0.6255\n"
     ]
    },
    {
     "name": "stdout",
     "output_type": "stream",
     "text": [
      "Epoch 7/10\n",
      "\n",
      " 1/10 [==>...........................] - ETA: 15s - loss: 1.3636 - rpn_class_loss: 0.1003 - rpn_bbox_loss: 0.3432 - mrcnn_class_loss: 0.0616 - mrcnn_bbox_loss: 0.2464 - mrcnn_mask_loss: 0.6121\n",
      " 2/10 [=====>........................] - ETA: 13s - loss: 1.3409 - rpn_class_loss: 0.1050 - rpn_bbox_loss: 0.2631 - mrcnn_class_loss: 0.0721 - mrcnn_bbox_loss: 0.3003 - mrcnn_mask_loss: 0.6004\n",
      " 3/10 [========>.....................] - ETA: 11s - loss: 1.2663 - rpn_class_loss: 0.1010 - rpn_bbox_loss: 0.2085 - mrcnn_class_loss: 0.0666 - mrcnn_bbox_loss: 0.2817 - mrcnn_mask_loss: 0.6086\n",
      " 4/10 [===========>..................] - ETA: 10s - loss: 1.2308 - rpn_class_loss: 0.1006 - rpn_bbox_loss: 0.2046 - mrcnn_class_loss: 0.0635 - mrcnn_bbox_loss: 0.2556 - mrcnn_mask_loss: 0.6065\n",
      " 5/10 [==============>...............] - ETA: 8s - loss: 1.2219 - rpn_class_loss: 0.0994 - rpn_bbox_loss: 0.2039 - mrcnn_class_loss: 0.0685 - mrcnn_bbox_loss: 0.2432 - mrcnn_mask_loss: 0.6069 \n",
      " 6/10 [=================>............] - ETA: 6s - loss: 1.2262 - rpn_class_loss: 0.0991 - rpn_bbox_loss: 0.2103 - mrcnn_class_loss: 0.0677 - mrcnn_bbox_loss: 0.2388 - mrcnn_mask_loss: 0.6102\n",
      " 7/10 [====================>.........] - ETA: 5s - loss: 1.2094 - rpn_class_loss: 0.0978 - rpn_bbox_loss: 0.1990 - mrcnn_class_loss: 0.0668 - mrcnn_bbox_loss: 0.2353 - mrcnn_mask_loss: 0.6105\n",
      " 8/10 [=======================>......] - ETA: 3s - loss: 1.2123 - rpn_class_loss: 0.0973 - rpn_bbox_loss: 0.2011 - mrcnn_class_loss: 0.0673 - mrcnn_bbox_loss: 0.2368 - mrcnn_mask_loss: 0.6098\n",
      " 9/10 [==========================>...] - ETA: 1s - loss: 1.2087 - rpn_class_loss: 0.0969 - rpn_bbox_loss: 0.2018 - mrcnn_class_loss: 0.0662 - mrcnn_bbox_loss: 0.2324 - mrcnn_mask_loss: 0.6114\n",
      "10/10 [==============================] - 18s 2s/step - loss: 1.2197 - rpn_class_loss: 0.0948 - rpn_bbox_loss: 0.2011 - mrcnn_class_loss: 0.0643 - mrcnn_bbox_loss: 0.2458 - mrcnn_mask_loss: 0.6137 - val_loss: 2.9932 - val_rpn_class_loss: 0.0531 - val_rpn_bbox_loss: 1.8005 - val_mrcnn_class_loss: 0.0513 - val_mrcnn_bbox_loss: 0.4823 - val_mrcnn_mask_loss: 0.6059\n",
      "Epoch 8/10\n",
      "\n",
      " 1/10 [==>...........................] - ETA: 15s - loss: 1.1589 - rpn_class_loss: 0.0866 - rpn_bbox_loss: 0.1712 - mrcnn_class_loss: 0.0662 - mrcnn_bbox_loss: 0.2192 - mrcnn_mask_loss: 0.6157\n",
      " 2/10 [=====>........................] - ETA: 13s - loss: 1.1684 - rpn_class_loss: 0.0791 - rpn_bbox_loss: 0.2364 - mrcnn_class_loss: 0.0563 - mrcnn_bbox_loss: 0.1972 - mrcnn_mask_loss: 0.5995\n",
      " 3/10 [========>.....................] - ETA: 12s - loss: 1.1882 - rpn_class_loss: 0.0746 - rpn_bbox_loss: 0.2543 - mrcnn_class_loss: 0.0546 - mrcnn_bbox_loss: 0.2148 - mrcnn_mask_loss: 0.5899\n",
      " 4/10 [===========>..................] - ETA: 10s - loss: 1.2041 - rpn_class_loss: 0.0809 - rpn_bbox_loss: 0.2293 - mrcnn_class_loss: 0.0581 - mrcnn_bbox_loss: 0.2439 - mrcnn_mask_loss: 0.5919\n",
      " 5/10 [==============>...............] - ETA: 8s - loss: 1.1731 - rpn_class_loss: 0.0818 - rpn_bbox_loss: 0.2154 - mrcnn_class_loss: 0.0579 - mrcnn_bbox_loss: 0.2245 - mrcnn_mask_loss: 0.5935 \n",
      " 6/10 [=================>............] - ETA: 6s - loss: 1.1828 - rpn_class_loss: 0.0839 - rpn_bbox_loss: 0.2238 - mrcnn_class_loss: 0.0597 - mrcnn_bbox_loss: 0.2204 - mrcnn_mask_loss: 0.5951\n",
      " 7/10 [====================>.........] - ETA: 5s - loss: 1.1777 - rpn_class_loss: 0.0812 - rpn_bbox_loss: 0.2123 - mrcnn_class_loss: 0.0583 - mrcnn_bbox_loss: 0.2277 - mrcnn_mask_loss: 0.5982\n",
      " 8/10 [=======================>......] - ETA: 3s - loss: 1.1756 - rpn_class_loss: 0.0823 - rpn_bbox_loss: 0.2061 - mrcnn_class_loss: 0.0605 - mrcnn_bbox_loss: 0.2271 - mrcnn_mask_loss: 0.5995\n",
      " 9/10 [==========================>...] - ETA: 1s - loss: 1.1565 - rpn_class_loss: 0.0805 - rpn_bbox_loss: 0.1972 - mrcnn_class_loss: 0.0586 - mrcnn_bbox_loss: 0.2183 - mrcnn_mask_loss: 0.6019\n",
      "10/10 [==============================] - 18s 2s/step - loss: 1.1831 - rpn_class_loss: 0.0801 - rpn_bbox_loss: 0.2085 - mrcnn_class_loss: 0.0599 - mrcnn_bbox_loss: 0.2325 - mrcnn_mask_loss: 0.6020 - val_loss: 3.5700 - val_rpn_class_loss: 0.0469 - val_rpn_bbox_loss: 2.0920 - val_mrcnn_class_loss: 0.0474 - val_mrcnn_bbox_loss: 0.7504 - val_mrcnn_mask_loss: 0.6333\n",
      "Epoch 9/10\n",
      "\n",
      " 1/10 [==>...........................] - ETA: 16s - loss: 1.3764 - rpn_class_loss: 0.0796 - rpn_bbox_loss: 0.2881 - mrcnn_class_loss: 0.0752 - mrcnn_bbox_loss: 0.3269 - mrcnn_mask_loss: 0.6067\n",
      " 2/10 [=====>........................] - ETA: 14s - loss: 1.2558 - rpn_class_loss: 0.0768 - rpn_bbox_loss: 0.3049 - mrcnn_class_loss: 0.0593 - mrcnn_bbox_loss: 0.2239 - mrcnn_mask_loss: 0.5910\n",
      " 3/10 [========>.....................] - ETA: 12s - loss: 1.1779 - rpn_class_loss: 0.0706 - rpn_bbox_loss: 0.2473 - mrcnn_class_loss: 0.0558 - mrcnn_bbox_loss: 0.1993 - mrcnn_mask_loss: 0.6048\n",
      " 4/10 [===========>..................] - ETA: 10s - loss: 1.2038 - rpn_class_loss: 0.0765 - rpn_bbox_loss: 0.2567 - mrcnn_class_loss: 0.0597 - mrcnn_bbox_loss: 0.1987 - mrcnn_mask_loss: 0.6122\n",
      " 5/10 [==============>...............] - ETA: 8s - loss: 1.1859 - rpn_class_loss: 0.0775 - rpn_bbox_loss: 0.2458 - mrcnn_class_loss: 0.0603 - mrcnn_bbox_loss: 0.1957 - mrcnn_mask_loss: 0.6067 \n",
      " 6/10 [=================>............] - ETA: 6s - loss: 1.1680 - rpn_class_loss: 0.0748 - rpn_bbox_loss: 0.2424 - mrcnn_class_loss: 0.0574 - mrcnn_bbox_loss: 0.1878 - mrcnn_mask_loss: 0.6055\n",
      " 7/10 [====================>.........] - ETA: 5s - loss: 1.1503 - rpn_class_loss: 0.0749 - rpn_bbox_loss: 0.2347 - mrcnn_class_loss: 0.0552 - mrcnn_bbox_loss: 0.1807 - mrcnn_mask_loss: 0.6048\n",
      " 8/10 [=======================>......] - ETA: 3s - loss: 1.1316 - rpn_class_loss: 0.0748 - rpn_bbox_loss: 0.2166 - mrcnn_class_loss: 0.0537 - mrcnn_bbox_loss: 0.1798 - mrcnn_mask_loss: 0.6067\n",
      " 9/10 [==========================>...] - ETA: 1s - loss: 1.1284 - rpn_class_loss: 0.0744 - rpn_bbox_loss: 0.2141 - mrcnn_class_loss: 0.0544 - mrcnn_bbox_loss: 0.1789 - mrcnn_mask_loss: 0.6066\n",
      "10/10 [==============================] - 18s 2s/step - loss: 1.1216 - rpn_class_loss: 0.0738 - rpn_bbox_loss: 0.2099 - mrcnn_class_loss: 0.0559 - mrcnn_bbox_loss: 0.1768 - mrcnn_mask_loss: 0.6051 - val_loss: 3.1075 - val_rpn_class_loss: 0.0473 - val_rpn_bbox_loss: 1.8057 - val_mrcnn_class_loss: 0.0432 - val_mrcnn_bbox_loss: 0.5823 - val_mrcnn_mask_loss: 0.6289\n",
      "Epoch 10/10\n",
      "\n",
      " 1/10 [==>...........................] - ETA: 15s - loss: 1.0242 - rpn_class_loss: 0.0747 - rpn_bbox_loss: 0.0977 - mrcnn_class_loss: 0.0392 - mrcnn_bbox_loss: 0.2086 - mrcnn_mask_loss: 0.6040\n",
      " 2/10 [=====>........................] - ETA: 13s - loss: 1.0073 - rpn_class_loss: 0.0650 - rpn_bbox_loss: 0.0884 - mrcnn_class_loss: 0.0401 - mrcnn_bbox_loss: 0.1994 - mrcnn_mask_loss: 0.6144\n",
      " 3/10 [========>.....................] - ETA: 11s - loss: 0.9810 - rpn_class_loss: 0.0642 - rpn_bbox_loss: 0.0870 - mrcnn_class_loss: 0.0495 - mrcnn_bbox_loss: 0.1768 - mrcnn_mask_loss: 0.6035\n",
      " 4/10 [===========>..................] - ETA: 10s - loss: 1.0184 - rpn_class_loss: 0.0697 - rpn_bbox_loss: 0.1214 - mrcnn_class_loss: 0.0520 - mrcnn_bbox_loss: 0.1719 - mrcnn_mask_loss: 0.6033\n",
      " 5/10 [==============>...............] - ETA: 8s - loss: 1.0283 - rpn_class_loss: 0.0709 - rpn_bbox_loss: 0.1127 - mrcnn_class_loss: 0.0538 - mrcnn_bbox_loss: 0.1873 - mrcnn_mask_loss: 0.6035 \n",
      " 6/10 [=================>............] - ETA: 6s - loss: 1.0404 - rpn_class_loss: 0.0728 - rpn_bbox_loss: 0.1211 - mrcnn_class_loss: 0.0556 - mrcnn_bbox_loss: 0.1853 - mrcnn_mask_loss: 0.6056\n",
      " 7/10 [====================>.........] - ETA: 5s - loss: 1.0603 - rpn_class_loss: 0.0713 - rpn_bbox_loss: 0.1311 - mrcnn_class_loss: 0.0522 - mrcnn_bbox_loss: 0.1971 - mrcnn_mask_loss: 0.6086\n",
      " 8/10 [=======================>......] - ETA: 3s - loss: 1.0640 - rpn_class_loss: 0.0687 - rpn_bbox_loss: 0.1292 - mrcnn_class_loss: 0.0500 - mrcnn_bbox_loss: 0.2062 - mrcnn_mask_loss: 0.6100\n",
      " 9/10 [==========================>...] - ETA: 1s - loss: 1.0710 - rpn_class_loss: 0.0688 - rpn_bbox_loss: 0.1236 - mrcnn_class_loss: 0.0496 - mrcnn_bbox_loss: 0.2193 - mrcnn_mask_loss: 0.6098\n",
      "10/10 [==============================] - 18s 2s/step - loss: 1.0873 - rpn_class_loss: 0.0703 - rpn_bbox_loss: 0.1392 - mrcnn_class_loss: 0.0509 - mrcnn_bbox_loss: 0.2194 - mrcnn_mask_loss: 0.6075 - val_loss: 3.1105 - val_rpn_class_loss: 0.0512 - val_rpn_bbox_loss: 1.6839 - val_mrcnn_class_loss: 0.0543 - val_mrcnn_bbox_loss: 0.6901 - val_mrcnn_mask_loss: 0.6310\n"
     ]
    },
    {
     "name": "stdout",
     "output_type": "stream",
     "text": [
      "Job state: succeeded ExitCode: 0\n"
     ]
    }
   ],
   "source": [
    "if backend == 'tensorflow':\n",
    "    read_file = 'stdout-wk-0.txt'\n",
    "elif backend == 'cntk':\n",
    "    read_file = 'stdout.txt'\n",
    "import utilities\n",
    "\n",
    "utilities.wait_for_job_completion(client, cfg.resource_group, cfg.workspace, \n",
    "                                  experiment_name, job_name, cluster_name, 'stdouterr', read_file)"
   ]
  },
  {
   "cell_type": "code",
   "execution_count": 10,
   "metadata": {},
   "outputs": [
    {
     "name": "stdout",
     "output_type": "stream",
     "text": [
      "balloon.py None\n",
      "coco.py None\n",
      "config.py None\n",
      "demo.ipynb None\n",
      "inspect_balloon_model.ipynb None\n",
      "inspect_sarcomas_data.ipynb None\n",
      "inspect_weights.ipynb None\n",
      "microscopy.h5 None\n",
      "model.py None\n",
      "parallel_model.py None\n",
      "Sarcomas_model.h5 None\n",
      "shapes.py None\n",
      "train_shapes.ipynb None\n",
      "utils.py None\n",
      "visualize.py None\n",
      ".ipynb_checkpoints None\n",
      "60be94cf-bd71-4d05-b7ce-d05fb5968d66 None\n",
      "datasets None\n",
      "logs None\n",
      "samples None\n",
      "sarcomas20180909T1758 None\n",
      "sarcomas20180909T1814 None\n",
      "sarcomas20180909T1911 None\n",
      "__pycache__ None\n"
     ]
    }
   ],
   "source": [
    "from azure.storage.file import FileService\n",
    "file_service = FileService(cfg.storage_account_name, cfg.storage_account_key)\n",
    "generator = file_service.list_directories_and_files('datasets/maskRCNN/')\n",
    "for file_or_dir in generator:\n",
    "    print(file_or_dir.name, file_or_dir.metadata)"
   ]
  },
  {
   "cell_type": "code",
   "execution_count": 11,
   "metadata": {},
   "outputs": [],
   "source": [
    "#file_service.get_file_to_path('bloodcell/ChestCTscan/',None ,'ChestCTscan_epoch200.h5','model200epoch.h5')"
   ]
  },
  {
   "cell_type": "code",
   "execution_count": null,
   "metadata": {},
   "outputs": [],
   "source": []
  },
  {
   "cell_type": "code",
   "execution_count": null,
   "metadata": {},
   "outputs": [],
   "source": []
  },
  {
   "cell_type": "code",
   "execution_count": 12,
   "metadata": {},
   "outputs": [],
   "source": [
    "_ = client.jobs.delete(cfg.resource_group, cfg.workspace, experiment_name, job_name)"
   ]
  },
  {
   "cell_type": "code",
   "execution_count": 13,
   "metadata": {},
   "outputs": [],
   "source": [
    "_ = client.clusters.delete(cfg.resource_group, cfg.workspace, cluster_name)"
   ]
  }
 ],
 "metadata": {
  "kernelspec": {
   "display_name": "Python 3",
   "language": "python",
   "name": "python3"
  },
  "language_info": {
   "codemirror_mode": {
    "name": "ipython",
    "version": 3
   },
   "file_extension": ".py",
   "mimetype": "text/x-python",
   "name": "python",
   "nbconvert_exporter": "python",
   "pygments_lexer": "ipython3",
   "version": "3.6.6"
  }
 },
 "nbformat": 4,
 "nbformat_minor": 2
}
